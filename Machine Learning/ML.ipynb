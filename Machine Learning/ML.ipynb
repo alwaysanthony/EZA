{
 "cells": [
  {
   "cell_type": "code",
   "execution_count": 33,
   "id": "60fe3265",
   "metadata": {},
   "outputs": [],
   "source": [
    "import warnings\n",
    "warnings.filterwarnings('ignore')\n",
    "import numpy as np\n",
    "import pandas as pd\n",
    "from pathlib import Path\n",
    "from sklearn.ensemble import RandomForestRegressor\n",
    "from sklearn.preprocessing import StandardScaler\n",
    "from sklearn.model_selection import train_test_split\n",
    "from sklearn.metrics import confusion_matrix, accuracy_score, classification_report\n",
    "from sklearn.linear_model import LinearRegression\n",
    "\n"
   ]
  },
  {
   "cell_type": "code",
   "execution_count": 4,
   "id": "d53b45c0",
   "metadata": {},
   "outputs": [
    {
     "data": {
      "text/html": [
       "<div>\n",
       "<style scoped>\n",
       "    .dataframe tbody tr th:only-of-type {\n",
       "        vertical-align: middle;\n",
       "    }\n",
       "\n",
       "    .dataframe tbody tr th {\n",
       "        vertical-align: top;\n",
       "    }\n",
       "\n",
       "    .dataframe thead th {\n",
       "        text-align: right;\n",
       "    }\n",
       "</style>\n",
       "<table border=\"1\" class=\"dataframe\">\n",
       "  <thead>\n",
       "    <tr style=\"text-align: right;\">\n",
       "      <th></th>\n",
       "      <th>Unnamed: 0</th>\n",
       "      <th>address</th>\n",
       "      <th>price</th>\n",
       "      <th>type</th>\n",
       "      <th>bed</th>\n",
       "      <th>sqft</th>\n",
       "      <th>walk</th>\n",
       "      <th>transit</th>\n",
       "      <th>bike</th>\n",
       "      <th>zipcodes</th>\n",
       "    </tr>\n",
       "  </thead>\n",
       "  <tbody>\n",
       "    <tr>\n",
       "      <th>0</th>\n",
       "      <td>0</td>\n",
       "      <td>4031 Wilderness Falls Trl, Humble, TX 77339</td>\n",
       "      <td>$369,900</td>\n",
       "      <td>Single family residence</td>\n",
       "      <td>2</td>\n",
       "      <td>2,395</td>\n",
       "      <td>53.0</td>\n",
       "      <td>0.0</td>\n",
       "      <td>47.0</td>\n",
       "      <td>77339</td>\n",
       "    </tr>\n",
       "    <tr>\n",
       "      <th>1</th>\n",
       "      <td>1</td>\n",
       "      <td>19410 Leafwood Ln, Houston, TX 77084</td>\n",
       "      <td>$220,000</td>\n",
       "      <td>Single family residence</td>\n",
       "      <td>3</td>\n",
       "      <td>1,384</td>\n",
       "      <td>34.0</td>\n",
       "      <td>0.0</td>\n",
       "      <td>52.0</td>\n",
       "      <td>77084</td>\n",
       "    </tr>\n",
       "    <tr>\n",
       "      <th>2</th>\n",
       "      <td>2</td>\n",
       "      <td>13219 Liliana Glen Ln, Houston, TX 77044</td>\n",
       "      <td>$242,500</td>\n",
       "      <td>Single family residence</td>\n",
       "      <td>3</td>\n",
       "      <td>1,597</td>\n",
       "      <td>8.0</td>\n",
       "      <td>0.0</td>\n",
       "      <td>26.0</td>\n",
       "      <td>77044</td>\n",
       "    </tr>\n",
       "    <tr>\n",
       "      <th>3</th>\n",
       "      <td>3</td>\n",
       "      <td>12806 Discipline Ave, Houston, TX 77014</td>\n",
       "      <td>$129,900</td>\n",
       "      <td>Ranch</td>\n",
       "      <td>3</td>\n",
       "      <td>1,170</td>\n",
       "      <td>11.0</td>\n",
       "      <td>25.0</td>\n",
       "      <td>28.0</td>\n",
       "      <td>77014</td>\n",
       "    </tr>\n",
       "    <tr>\n",
       "      <th>4</th>\n",
       "      <td>4</td>\n",
       "      <td>4959 Culmore Dr, Houston, TX 77021</td>\n",
       "      <td>$345,000</td>\n",
       "      <td>Single family residence</td>\n",
       "      <td>4</td>\n",
       "      <td>1,925</td>\n",
       "      <td>50.0</td>\n",
       "      <td>54.0</td>\n",
       "      <td>56.0</td>\n",
       "      <td>77021</td>\n",
       "    </tr>\n",
       "  </tbody>\n",
       "</table>\n",
       "</div>"
      ],
      "text/plain": [
       "   Unnamed: 0                                      address     price  \\\n",
       "0           0  4031 Wilderness Falls Trl, Humble, TX 77339  $369,900   \n",
       "1           1         19410 Leafwood Ln, Houston, TX 77084  $220,000   \n",
       "2           2     13219 Liliana Glen Ln, Houston, TX 77044  $242,500   \n",
       "3           3      12806 Discipline Ave, Houston, TX 77014  $129,900   \n",
       "4           4           4959 Culmore Dr, Houston, TX 77021  $345,000   \n",
       "\n",
       "                      type bed   sqft  walk  transit  bike  zipcodes  \n",
       "0  Single family residence  2   2,395  53.0      0.0  47.0     77339  \n",
       "1  Single family residence  3   1,384  34.0      0.0  52.0     77084  \n",
       "2  Single family residence  3   1,597   8.0      0.0  26.0     77044  \n",
       "3                    Ranch  3   1,170  11.0     25.0  28.0     77014  \n",
       "4  Single family residence  4   1,925  50.0     54.0  56.0     77021  "
      ]
     },
     "execution_count": 4,
     "metadata": {},
     "output_type": "execute_result"
    }
   ],
   "source": [
    "df = pd.read_csv(Path('../DataScraped/Cleaned2.csv'))\n",
    "df.head()"
   ]
  },
  {
   "cell_type": "code",
   "execution_count": 5,
   "id": "55944038",
   "metadata": {},
   "outputs": [
    {
     "data": {
      "text/plain": [
       "Index(['Unnamed: 0', 'address', 'price', 'type', 'bed', 'sqft', 'walk',\n",
       "       'transit', 'bike', 'zipcodes'],\n",
       "      dtype='object')"
      ]
     },
     "execution_count": 5,
     "metadata": {},
     "output_type": "execute_result"
    }
   ],
   "source": [
    "df.columns"
   ]
  },
  {
   "cell_type": "code",
   "execution_count": 6,
   "id": "b3cc090c",
   "metadata": {},
   "outputs": [
    {
     "data": {
      "text/plain": [
       "Unnamed: 0      int64\n",
       "address        object\n",
       "price          object\n",
       "type           object\n",
       "bed            object\n",
       "sqft           object\n",
       "walk          float64\n",
       "transit       float64\n",
       "bike          float64\n",
       "zipcodes        int64\n",
       "dtype: object"
      ]
     },
     "execution_count": 6,
     "metadata": {},
     "output_type": "execute_result"
    }
   ],
   "source": [
    "df.dtypes"
   ]
  },
  {
   "cell_type": "code",
   "execution_count": 7,
   "id": "ca6784b3",
   "metadata": {},
   "outputs": [
    {
     "data": {
      "text/plain": [
       "Unnamed: 0    0\n",
       "address       0\n",
       "price         0\n",
       "type          0\n",
       "bed           0\n",
       "sqft          0\n",
       "walk          0\n",
       "transit       0\n",
       "bike          0\n",
       "zipcodes      0\n",
       "dtype: int64"
      ]
     },
     "execution_count": 7,
     "metadata": {},
     "output_type": "execute_result"
    }
   ],
   "source": [
    "df.isnull().sum()"
   ]
  },
  {
   "cell_type": "code",
   "execution_count": 54,
   "id": "bc32238c",
   "metadata": {},
   "outputs": [],
   "source": [
    "# Create our features\n",
    "X = df.copy()\n",
    "X= X.drop(\"transit\",axis=1)\n",
    "X.head()\n",
    "X = pd.get_dummies(X)\n",
    "# Create our target\n",
    "\n",
    "y = df[\"transit\"]\n"
   ]
  },
  {
   "cell_type": "code",
   "execution_count": 55,
   "id": "ce97d4ca",
   "metadata": {},
   "outputs": [
    {
     "data": {
      "text/plain": [
       "Index(['Unnamed: 0', 'walk', 'bike', 'zipcodes',\n",
       "       'address_1000 Kirby Dr, Houston, TX 77019',\n",
       "       'address_10000 Westview Dr 6, Houston, TX 77055',\n",
       "       'address_10001 Westpark Dr APT 67, Houston, TX 77042',\n",
       "       'address_10011 Lazy Meadows Dr, Houston, TX 77064',\n",
       "       'address_10015 Lizette Ct, Houston, TX 77075',\n",
       "       'address_1003 Vest Ct, Houston, TX 77073',\n",
       "       ...\n",
       "       'sqft_966', 'sqft_972', 'sqft_975', 'sqft_978', 'sqft_980', 'sqft_981',\n",
       "       'sqft_982', 'sqft_988', 'sqft_989', 'sqft_992'],\n",
       "      dtype='object', length=2199)"
      ]
     },
     "execution_count": 55,
     "metadata": {},
     "output_type": "execute_result"
    }
   ],
   "source": [
    "X.columns"
   ]
  },
  {
   "cell_type": "code",
   "execution_count": 56,
   "id": "af787573",
   "metadata": {},
   "outputs": [
    {
     "data": {
      "text/plain": [
       "(708, 2199)"
      ]
     },
     "execution_count": 56,
     "metadata": {},
     "output_type": "execute_result"
    }
   ],
   "source": [
    "# Split data into train/test\n",
    "X_train, X_test, y_train, y_test = train_test_split(X, y, random_state=1)\n",
    "X_train.shape"
   ]
  },
  {
   "cell_type": "code",
   "execution_count": 57,
   "id": "a27b1729",
   "metadata": {},
   "outputs": [
    {
     "data": {
      "text/plain": [
       "LinearRegression()"
      ]
     },
     "execution_count": 57,
     "metadata": {},
     "output_type": "execute_result"
    }
   ],
   "source": [
    "# Instantiate linear regression variable\n",
    "model = LinearRegression()\n",
    "# Use data to learn patterns (fitting or training)\n",
    "model.fit(X_train, y_train)"
   ]
  },
  {
   "cell_type": "code",
   "execution_count": 58,
   "id": "cb3fd64f",
   "metadata": {},
   "outputs": [
    {
     "data": {
      "text/html": [
       "<div>\n",
       "<style scoped>\n",
       "    .dataframe tbody tr th:only-of-type {\n",
       "        vertical-align: middle;\n",
       "    }\n",
       "\n",
       "    .dataframe tbody tr th {\n",
       "        vertical-align: top;\n",
       "    }\n",
       "\n",
       "    .dataframe thead th {\n",
       "        text-align: right;\n",
       "    }\n",
       "</style>\n",
       "<table border=\"1\" class=\"dataframe\">\n",
       "  <thead>\n",
       "    <tr style=\"text-align: right;\">\n",
       "      <th></th>\n",
       "      <th>Prediction</th>\n",
       "      <th>Actual</th>\n",
       "    </tr>\n",
       "  </thead>\n",
       "  <tbody>\n",
       "    <tr>\n",
       "      <th>0</th>\n",
       "      <td>63.208449</td>\n",
       "      <td>54.0</td>\n",
       "    </tr>\n",
       "    <tr>\n",
       "      <th>1</th>\n",
       "      <td>52.186297</td>\n",
       "      <td>46.0</td>\n",
       "    </tr>\n",
       "    <tr>\n",
       "      <th>2</th>\n",
       "      <td>35.100484</td>\n",
       "      <td>34.0</td>\n",
       "    </tr>\n",
       "    <tr>\n",
       "      <th>3</th>\n",
       "      <td>53.983134</td>\n",
       "      <td>73.0</td>\n",
       "    </tr>\n",
       "    <tr>\n",
       "      <th>4</th>\n",
       "      <td>15.049629</td>\n",
       "      <td>50.0</td>\n",
       "    </tr>\n",
       "  </tbody>\n",
       "</table>\n",
       "</div>"
      ],
      "text/plain": [
       "   Prediction  Actual\n",
       "0   63.208449    54.0\n",
       "1   52.186297    46.0\n",
       "2   35.100484    34.0\n",
       "3   53.983134    73.0\n",
       "4   15.049629    50.0"
      ]
     },
     "execution_count": 58,
     "metadata": {},
     "output_type": "execute_result"
    }
   ],
   "source": [
    "y_pred = model.predict(X_test)\n",
    "results = pd.DataFrame({\"Prediction\": y_pred, \"Actual\": y_test}).reset_index(drop=True)\n",
    "results.head()"
   ]
  },
  {
   "cell_type": "code",
   "execution_count": 27,
   "id": "7364b035",
   "metadata": {},
   "outputs": [],
   "source": []
  },
  {
   "cell_type": "code",
   "execution_count": 28,
   "id": "6919209a",
   "metadata": {},
   "outputs": [],
   "source": []
  },
  {
   "cell_type": "code",
   "execution_count": null,
   "id": "1f232822",
   "metadata": {},
   "outputs": [],
   "source": []
  },
  {
   "cell_type": "code",
   "execution_count": null,
   "id": "9a4dd67b",
   "metadata": {},
   "outputs": [],
   "source": []
  }
 ],
 "metadata": {
  "kernelspec": {
   "display_name": "Python 3 (ipykernel)",
   "language": "python",
   "name": "python3"
  },
  "language_info": {
   "codemirror_mode": {
    "name": "ipython",
    "version": 3
   },
   "file_extension": ".py",
   "mimetype": "text/x-python",
   "name": "python",
   "nbconvert_exporter": "python",
   "pygments_lexer": "ipython3",
   "version": "3.9.7"
  }
 },
 "nbformat": 4,
 "nbformat_minor": 5
}
