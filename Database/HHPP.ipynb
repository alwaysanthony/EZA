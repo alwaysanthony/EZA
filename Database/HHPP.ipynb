{
  "nbformat": 4,
  "nbformat_minor": 0,
  "metadata": {
    "colab": {
      "provenance": [],
      "collapsed_sections": []
    },
    "kernelspec": {
      "name": "python3",
      "display_name": "Python 3"
    },
    "language_info": {
      "name": "python"
    }
  },
  "cells": [
    {
      "cell_type": "code",
      "execution_count": 7,
      "metadata": {
        "colab": {
          "base_uri": "https://localhost:8080/"
        },
        "id": "-02X8Objv8FX",
        "outputId": "5396bca3-4699-4d3a-fa1a-5fb2f53f1b1b"
      },
      "outputs": [
        {
          "output_type": "stream",
          "name": "stdout",
          "text": [
            "\r0% [Working]\r            \rHit:1 https://cloud.r-project.org/bin/linux/ubuntu bionic-cran40/ InRelease\n",
            "\r0% [Connecting to archive.ubuntu.com] [Connecting to security.ubuntu.com (91.18\r0% [1 InRelease gpgv 3,626 B] [Connecting to archive.ubuntu.com] [Connecting to\r                                                                               \rIgn:2 https://developer.download.nvidia.com/compute/machine-learning/repos/ubuntu1804/x86_64  InRelease\n",
            "\r0% [1 InRelease gpgv 3,626 B] [Connecting to archive.ubuntu.com] [Waiting for h\r                                                                               \rHit:3 https://developer.download.nvidia.com/compute/cuda/repos/ubuntu1804/x86_64  InRelease\n",
            "\r0% [1 InRelease gpgv 3,626 B] [Connecting to archive.ubuntu.com] [Waiting for h\r                                                                               \rHit:4 https://developer.download.nvidia.com/compute/machine-learning/repos/ubuntu1804/x86_64  Release\n",
            "Get:5 http://security.ubuntu.com/ubuntu bionic-security InRelease [88.7 kB]\n",
            "Hit:6 http://archive.ubuntu.com/ubuntu bionic InRelease\n",
            "Hit:7 http://ppa.launchpad.net/c2d4u.team/c2d4u4.0+/ubuntu bionic InRelease\n",
            "Get:8 http://archive.ubuntu.com/ubuntu bionic-updates InRelease [88.7 kB]\n",
            "Hit:10 http://ppa.launchpad.net/cran/libgit2/ubuntu bionic InRelease\n",
            "Get:11 http://archive.ubuntu.com/ubuntu bionic-backports InRelease [74.6 kB]\n",
            "Hit:12 http://ppa.launchpad.net/deadsnakes/ppa/ubuntu bionic InRelease\n",
            "Hit:13 http://ppa.launchpad.net/graphics-drivers/ppa/ubuntu bionic InRelease\n",
            "Fetched 252 kB in 1s (183 kB/s)\n",
            "Reading package lists... Done\n"
          ]
        }
      ],
      "source": [
        "import os\n",
        "# Find the latest version of spark 3.0 from http://www.apache.org/dist/spark/ and enter as the spark version\n",
        "# For example:\n",
        "# spark_version = 'spark-3.0.3'\n",
        "spark_version = 'spark-3.3.0'\n",
        "os.environ['SPARK_VERSION']=spark_version\n",
        "\n",
        "# Install Spark and Java\n",
        "!apt-get update\n",
        "!apt-get install openjdk-11-jdk-headless -qq > /dev/null\n",
        "!wget -q http://www.apache.org/dist/spark/$SPARK_VERSION/$SPARK_VERSION-bin-hadoop3.tgz\n",
        "!tar xf $SPARK_VERSION-bin-hadoop3.tgz\n",
        "!pip install -q findspark\n",
        "\n",
        "# Set Environment Variables\n",
        "import os\n",
        "os.environ[\"JAVA_HOME\"] = \"/usr/lib/jvm/java-11-openjdk-amd64\"\n",
        "os.environ[\"SPARK_HOME\"] = f\"/content/{spark_version}-bin-hadoop3\"\n",
        "\n",
        "# Start a SparkSession\n",
        "import findspark\n",
        "findspark.init()"
      ]
    },
    {
      "cell_type": "code",
      "source": [
        "# Download the Postgres driver that will allow Spark to interact with Postgres.\n",
        "!wget https://jdbc.postgresql.org/download/postgresql-42.2.16.jar"
      ],
      "metadata": {
        "colab": {
          "base_uri": "https://localhost:8080/"
        },
        "id": "s0fyakKxwVyH",
        "outputId": "26b24329-a468-41a8-9550-d251ed0ea04e"
      },
      "execution_count": 8,
      "outputs": [
        {
          "output_type": "stream",
          "name": "stdout",
          "text": [
            "--2022-09-11 18:40:39--  https://jdbc.postgresql.org/download/postgresql-42.2.16.jar\n",
            "Resolving jdbc.postgresql.org (jdbc.postgresql.org)... 72.32.157.228, 2001:4800:3e1:1::228\n",
            "Connecting to jdbc.postgresql.org (jdbc.postgresql.org)|72.32.157.228|:443... connected.\n",
            "HTTP request sent, awaiting response... 200 OK\n",
            "Length: 1002883 (979K) [application/java-archive]\n",
            "Saving to: ‘postgresql-42.2.16.jar.1’\n",
            "\n",
            "postgresql-42.2.16. 100%[===================>] 979.38K  4.84MB/s    in 0.2s    \n",
            "\n",
            "2022-09-11 18:40:40 (4.84 MB/s) - ‘postgresql-42.2.16.jar.1’ saved [1002883/1002883]\n",
            "\n"
          ]
        }
      ]
    },
    {
      "cell_type": "code",
      "source": [
        "from pyspark.sql import SparkSession\n",
        "spark = SparkSession.builder.appName(\"M16-Amazon-Challenge\").config(\"spark.driver.extraClassPath\",\"/content/postgresql-42.2.16.jar\").getOrCreate()"
      ],
      "metadata": {
        "id": "pgyLRdmgwbBQ"
      },
      "execution_count": 9,
      "outputs": []
    },
    {
      "cell_type": "code",
      "source": [
        "from pyspark import SparkFiles\n",
        "url = \"https://hhpp-bucket.s3.amazonaws.com/HoustonSuperNeighborhoods.csv\"\n",
        "spark.sparkContext.addFile(url)\n",
        "df = spark.read.csv(SparkFiles.get(\"HoustonSuperNeighborhoods.csv\"), sep=\",\", header=True, inferSchema=True)\n",
        "df.show()"
      ],
      "metadata": {
        "colab": {
          "base_uri": "https://localhost:8080/"
        },
        "id": "zXEyQMPJwebl",
        "outputId": "d833ed65-d3d3-43dc-a7e5-2a9af25b0c82"
      },
      "execution_count": 10,
      "outputs": [
        {
          "output_type": "stream",
          "name": "stdout",
          "text": [
            "+---+--------------------+----------------+-----------------------+\n",
            "| id|                name|total_population|median_household_income|\n",
            "+---+--------------------+----------------+-----------------------+\n",
            "|  1|    Kashmere Gardens|         10055.0|                23102.0|\n",
            "|  2|Trinity / Houston...|         15789.0|                27789.0|\n",
            "|  3|           Settegast|          2981.0|                28821.0|\n",
            "|  4|Denver Harbor / P...|         17571.0|                29273.0|\n",
            "|  5|          South Park|         21208.0|                29475.0|\n",
            "|  6|            Westwood|         19530.0|                29527.0|\n",
            "|  7|  Greater Fifth Ward|         19687.0|                30535.0|\n",
            "|  8|Clinton Park / Tr...|          3140.0|                31826.0|\n",
            "|  9|        East Houston|         18580.0|                31826.0|\n",
            "| 10|       Magnolia Park|         16999.0|                32039.0|\n",
            "| 11|Gulfgate Rivervie...|         12723.0|                32595.0|\n",
            "| 12|       Pleasantville|          2860.0|                32899.0|\n",
            "| 13|     Eastex - Jensen|         25724.0|                32923.0|\n",
            "| 14|          Sharpstown|         77220.0|                33086.0|\n",
            "| 15|Northside / North...|         59410.0|                33713.0|\n",
            "| 16| Greater Greenspoint|         41392.0|                33909.0|\n",
            "| 17|Greater OST / Sou...|         19141.0|                34019.0|\n",
            "| 18|       Hidden Valley|          3569.0|                34452.0|\n",
            "| 19|          Pecan Park|         16259.0|                34622.0|\n",
            "| 20|Golfcrest / Bellf...|         51432.0|                34731.0|\n",
            "+---+--------------------+----------------+-----------------------+\n",
            "only showing top 20 rows\n",
            "\n"
          ]
        }
      ]
    },
    {
      "cell_type": "code",
      "source": [
        "# Store environmental variable\n",
        "\n",
        "from getpass import getpass\n",
        "password = getpass('Enter database password')\n",
        "\n",
        "# Configure settings for RDS\n",
        "\n",
        "mode = \"append\"\n",
        "jdbc_url=\"jdbc:postgresql://hhpp-db.cib8i0dtf6rx.us-east-1.rds.amazonaws.com:5432/hhppdb\"\n",
        "config = {\"user\":\"postgres\", \n",
        "          \"password\": password, \n",
        "          \"driver\":\"org.postgresql.Driver\"}"
      ],
      "metadata": {
        "colab": {
          "base_uri": "https://localhost:8080/"
        },
        "id": "BZv2Rbtv0oUn",
        "outputId": "a3d19854-3357-4e2d-b564-8a64deac4572"
      },
      "execution_count": 14,
      "outputs": [
        {
          "name": "stdout",
          "output_type": "stream",
          "text": [
            "Enter database password··········\n"
          ]
        }
      ]
    },
    {
      "cell_type": "code",
      "source": [
        "# Write df to table in RDS\n",
        "df.write.jdbc(url=jdbc_url, table='houston_super_neighborhoods', mode=mode, properties=config)"
      ],
      "metadata": {
        "id": "qwGxn4MW1-9J"
      },
      "execution_count": 15,
      "outputs": []
    },
    {
      "cell_type": "code",
      "source": [
        "# Read from table\n",
        "read_df = spark.read.jdbc(url=jdbc_url, table='houston_super_neighborhoods', properties=config)\n",
        "read_df.show()"
      ],
      "metadata": {
        "colab": {
          "base_uri": "https://localhost:8080/"
        },
        "id": "wPiXgld35twa",
        "outputId": "6885a64a-b65f-4ebb-b7c2-06b64273b330"
      },
      "execution_count": 17,
      "outputs": [
        {
          "output_type": "stream",
          "name": "stdout",
          "text": [
            "+---+--------------------+----------------+-----------------------+\n",
            "| id|                name|total_population|median_household_income|\n",
            "+---+--------------------+----------------+-----------------------+\n",
            "|  1|    Kashmere Gardens|           10055|                  23102|\n",
            "|  2|Trinity / Houston...|           15789|                  27789|\n",
            "|  3|           Settegast|            2981|                  28821|\n",
            "|  4|Denver Harbor / P...|           17571|                  29273|\n",
            "|  5|          South Park|           21208|                  29475|\n",
            "|  6|            Westwood|           19530|                  29527|\n",
            "|  7|  Greater Fifth Ward|           19687|                  30535|\n",
            "|  8|Clinton Park / Tr...|            3140|                  31826|\n",
            "|  9|        East Houston|           18580|                  31826|\n",
            "| 10|       Magnolia Park|           16999|                  32039|\n",
            "| 11|Gulfgate Rivervie...|           12723|                  32595|\n",
            "| 12|       Pleasantville|            2860|                  32899|\n",
            "| 13|     Eastex - Jensen|           25724|                  32923|\n",
            "| 14|          Sharpstown|           77220|                  33086|\n",
            "| 15|Northside / North...|           59410|                  33713|\n",
            "| 16| Greater Greenspoint|           41392|                  33909|\n",
            "| 17|Greater OST / Sou...|           19141|                  34019|\n",
            "| 18|       Hidden Valley|            3569|                  34452|\n",
            "| 19|          Pecan Park|           16259|                  34622|\n",
            "| 20|Golfcrest / Bellf...|           51432|                  34731|\n",
            "+---+--------------------+----------------+-----------------------+\n",
            "only showing top 20 rows\n",
            "\n"
          ]
        }
      ]
    }
  ]
}