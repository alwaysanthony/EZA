{
  "nbformat": 4,
  "nbformat_minor": 0,
  "metadata": {
    "colab": {
      "provenance": [],
      "collapsed_sections": []
    },
    "kernelspec": {
      "name": "python3",
      "display_name": "Python 3"
    },
    "language_info": {
      "name": "python"
    }
  },
  "cells": [
    {
      "cell_type": "code",
      "execution_count": 106,
      "metadata": {
        "colab": {
          "base_uri": "https://localhost:8080/"
        },
        "id": "-02X8Objv8FX",
        "outputId": "cd4d2846-50f4-4f18-b924-9806013f7628"
      },
      "outputs": [
        {
          "output_type": "stream",
          "name": "stdout",
          "text": [
            "\r0% [Working]\r            \rGet:1 https://cloud.r-project.org/bin/linux/ubuntu bionic-cran40/ InRelease [3,626 B]\n",
            "\r0% [Connecting to archive.ubuntu.com (185.125.190.36)] [Connecting to security.\r0% [Connecting to archive.ubuntu.com (185.125.190.36)] [Connecting to security.\r0% [1 InRelease gpgv 3,626 B] [Connecting to archive.ubuntu.com (185.125.190.36\r0% [Waiting for headers] [Waiting for headers] [Waiting for headers] [Waiting f\r                                                                               \rGet:2 http://security.ubuntu.com/ubuntu bionic-security InRelease [88.7 kB]\n",
            "\r0% [Waiting for headers] [2 InRelease 14.2 kB/88.7 kB 16%] [Waiting for headers\r                                                                               \rGet:3 http://ppa.launchpad.net/c2d4u.team/c2d4u4.0+/ubuntu bionic InRelease [15.9 kB]\n",
            "Hit:4 http://archive.ubuntu.com/ubuntu bionic InRelease\n",
            "Get:5 http://archive.ubuntu.com/ubuntu bionic-updates InRelease [88.7 kB]\n",
            "Hit:6 http://ppa.launchpad.net/cran/libgit2/ubuntu bionic InRelease\n",
            "Ign:7 https://developer.download.nvidia.com/compute/machine-learning/repos/ubuntu1804/x86_64  InRelease\n",
            "Hit:8 https://developer.download.nvidia.com/compute/cuda/repos/ubuntu1804/x86_64  InRelease\n",
            "Hit:9 https://developer.download.nvidia.com/compute/machine-learning/repos/ubuntu1804/x86_64  Release\n",
            "Get:10 http://archive.ubuntu.com/ubuntu bionic-backports InRelease [74.6 kB]\n",
            "Hit:11 http://ppa.launchpad.net/deadsnakes/ppa/ubuntu bionic InRelease\n",
            "Hit:12 http://ppa.launchpad.net/graphics-drivers/ppa/ubuntu bionic InRelease\n",
            "Get:13 http://ppa.launchpad.net/c2d4u.team/c2d4u4.0+/ubuntu bionic/main Sources [2,107 kB]\n",
            "Get:15 http://ppa.launchpad.net/c2d4u.team/c2d4u4.0+/ubuntu bionic/main amd64 Packages [1,080 kB]\n",
            "Fetched 3,459 kB in 2s (1,702 kB/s)\n",
            "Reading package lists... Done\n"
          ]
        }
      ],
      "source": [
        "import os\n",
        "# Find the latest version of spark 3.0 from http://www.apache.org/dist/spark/ and enter as the spark version\n",
        "# For example:\n",
        "# spark_version = 'spark-3.0.3'\n",
        "spark_version = 'spark-3.3.0'\n",
        "os.environ['SPARK_VERSION']=spark_version\n",
        "\n",
        "# Install Spark and Java\n",
        "!apt-get update\n",
        "!apt-get install openjdk-11-jdk-headless -qq > /dev/null\n",
        "!wget -q http://www.apache.org/dist/spark/$SPARK_VERSION/$SPARK_VERSION-bin-hadoop3.tgz\n",
        "!tar xf $SPARK_VERSION-bin-hadoop3.tgz\n",
        "!pip install -q findspark\n",
        "\n",
        "# Set Environment Variables\n",
        "import os\n",
        "os.environ[\"JAVA_HOME\"] = \"/usr/lib/jvm/java-11-openjdk-amd64\"\n",
        "os.environ[\"SPARK_HOME\"] = f\"/content/{spark_version}-bin-hadoop3\"\n",
        "\n",
        "# Start a SparkSession\n",
        "import findspark\n",
        "findspark.init()"
      ]
    },
    {
      "cell_type": "code",
      "source": [
        "# Download the Postgres driver that will allow Spark to interact with Postgres.\n",
        "!wget https://jdbc.postgresql.org/download/postgresql-42.2.16.jar"
      ],
      "metadata": {
        "colab": {
          "base_uri": "https://localhost:8080/"
        },
        "id": "s0fyakKxwVyH",
        "outputId": "a59e9ddb-f3f6-412d-c2c9-d234af256324"
      },
      "execution_count": 107,
      "outputs": [
        {
          "output_type": "stream",
          "name": "stdout",
          "text": [
            "--2022-09-18 18:49:45--  https://jdbc.postgresql.org/download/postgresql-42.2.16.jar\n",
            "Resolving jdbc.postgresql.org (jdbc.postgresql.org)... 72.32.157.228, 2001:4800:3e1:1::228\n",
            "Connecting to jdbc.postgresql.org (jdbc.postgresql.org)|72.32.157.228|:443... connected.\n",
            "HTTP request sent, awaiting response... 200 OK\n",
            "Length: 1002883 (979K) [application/java-archive]\n",
            "Saving to: ‘postgresql-42.2.16.jar.1’\n",
            "\n",
            "postgresql-42.2.16. 100%[===================>] 979.38K  5.29MB/s    in 0.2s    \n",
            "\n",
            "2022-09-18 18:49:45 (5.29 MB/s) - ‘postgresql-42.2.16.jar.1’ saved [1002883/1002883]\n",
            "\n"
          ]
        }
      ]
    },
    {
      "cell_type": "code",
      "source": [
        "from pyspark.sql import SparkSession\n",
        "spark = SparkSession.builder.appName(\"M16-Amazon-Challenge\").config(\"spark.driver.extraClassPath\",\"/content/postgresql-42.2.16.jar\").getOrCreate()"
      ],
      "metadata": {
        "id": "pgyLRdmgwbBQ"
      },
      "execution_count": 108,
      "outputs": []
    },
    {
      "cell_type": "code",
      "source": [
        "#import csv from aws bucket\n",
        "from pyspark import SparkFiles\n",
        "url = \"https://hhpp-bucket.s3.amazonaws.com/HoustonSuperNeighborhoods.csv\"\n",
        "spark.sparkContext.addFile(url)\n",
        "df = spark.read.csv(SparkFiles.get(\"HoustonSuperNeighborhoods.csv\"), sep=\",\", header=True, inferSchema=True)\n",
        "df.show()"
      ],
      "metadata": {
        "colab": {
          "base_uri": "https://localhost:8080/"
        },
        "id": "zXEyQMPJwebl",
        "outputId": "6bd155e9-5a0b-4638-dfac-28d7eb1c8a0e"
      },
      "execution_count": 113,
      "outputs": [
        {
          "output_type": "stream",
          "name": "stdout",
          "text": [
            "+---+--------------------+----------------+-----------------------+\n",
            "| id|                name|total_population|median_household_income|\n",
            "+---+--------------------+----------------+-----------------------+\n",
            "|  1|    Kashmere Gardens|         10055.0|                23102.0|\n",
            "|  2|Trinity / Houston...|         15789.0|                27789.0|\n",
            "|  3|           Settegast|          2981.0|                28821.0|\n",
            "|  4|Denver Harbor / P...|         17571.0|                29273.0|\n",
            "|  5|          South Park|         21208.0|                29475.0|\n",
            "|  6|            Westwood|         19530.0|                29527.0|\n",
            "|  7|  Greater Fifth Ward|         19687.0|                30535.0|\n",
            "|  8|Clinton Park / Tr...|          3140.0|                31826.0|\n",
            "|  9|        East Houston|         18580.0|                31826.0|\n",
            "| 10|       Magnolia Park|         16999.0|                32039.0|\n",
            "| 11|Gulfgate Rivervie...|         12723.0|                32595.0|\n",
            "| 12|       Pleasantville|          2860.0|                32899.0|\n",
            "| 13|     Eastex - Jensen|         25724.0|                32923.0|\n",
            "| 14|          Sharpstown|         77220.0|                33086.0|\n",
            "| 15|Northside / North...|         59410.0|                33713.0|\n",
            "| 16| Greater Greenspoint|         41392.0|                33909.0|\n",
            "| 17|Greater OST / Sou...|         19141.0|                34019.0|\n",
            "| 18|       Hidden Valley|          3569.0|                34452.0|\n",
            "| 19|          Pecan Park|         16259.0|                34622.0|\n",
            "| 20|Golfcrest / Bellf...|         51432.0|                34731.0|\n",
            "+---+--------------------+----------------+-----------------------+\n",
            "only showing top 20 rows\n",
            "\n"
          ]
        }
      ]
    },
    {
      "cell_type": "code",
      "source": [
        "#gathering total_population information to find mean and add to data\n",
        "df_describe =df.select([\"total_population\"])\n",
        "df_describe.show()\n"
      ],
      "metadata": {
        "colab": {
          "base_uri": "https://localhost:8080/"
        },
        "id": "vk6xikgbQY8S",
        "outputId": "689ea29b-a782-4a21-9b2e-d803708beb14"
      },
      "execution_count": null,
      "outputs": [
        {
          "output_type": "stream",
          "name": "stdout",
          "text": [
            "+----------------+\n",
            "|total_population|\n",
            "+----------------+\n",
            "|         10055.0|\n",
            "|         15789.0|\n",
            "|          2981.0|\n",
            "|         17571.0|\n",
            "|         21208.0|\n",
            "|         19530.0|\n",
            "|         19687.0|\n",
            "|          3140.0|\n",
            "|         18580.0|\n",
            "|         16999.0|\n",
            "|         12723.0|\n",
            "|          2860.0|\n",
            "|         25724.0|\n",
            "|         77220.0|\n",
            "|         59410.0|\n",
            "|         41392.0|\n",
            "|         19141.0|\n",
            "|          3569.0|\n",
            "|         16259.0|\n",
            "|         51432.0|\n",
            "+----------------+\n",
            "only showing top 20 rows\n",
            "\n"
          ]
        }
      ]
    },
    {
      "cell_type": "code",
      "source": [
        "#taking mean and creating new row in data. Adding mean for total_population of no super neighborhood row\n",
        "df_describe.describe().show()"
      ],
      "metadata": {
        "colab": {
          "base_uri": "https://localhost:8080/"
        },
        "id": "Rk35dN3ISGtN",
        "outputId": "8cf77a7f-c93c-440c-9a0c-3cc23977087b"
      },
      "execution_count": null,
      "outputs": [
        {
          "output_type": "stream",
          "name": "stdout",
          "text": [
            "+-------+------------------+\n",
            "|summary|  total_population|\n",
            "+-------+------------------+\n",
            "|  count|                88|\n",
            "|   mean|24819.045454545456|\n",
            "| stddev|20102.476331078928|\n",
            "|    min|            1951.0|\n",
            "|    max|          106657.0|\n",
            "+-------+------------------+\n",
            "\n"
          ]
        }
      ]
    },
    {
      "cell_type": "code",
      "source": [
        "#after adding row 0 with new data we will upload the data from csv to database\n",
        "url = \"https://hhpp-bucket.s3.amazonaws.com/HoustonSuperNeighborhoodsUpdated.csv\"\n",
        "spark.sparkContext.addFile(url)\n",
        "df_table = spark.read.csv(SparkFiles.get(\"HoustonSuperNeighborhoodsUpdated.csv\"), sep=\",\", header=True, inferSchema=True)\n",
        "df_table.show()"
      ],
      "metadata": {
        "colab": {
          "base_uri": "https://localhost:8080/"
        },
        "id": "guON82usWE_7",
        "outputId": "f47e09d5-952c-4082-9b53-79c7a8258928"
      },
      "execution_count": null,
      "outputs": [
        {
          "output_type": "stream",
          "name": "stdout",
          "text": [
            "+---+--------------------+----------------+-----------------------+\n",
            "| id|                name|total_population|median_household_income|\n",
            "+---+--------------------+----------------+-----------------------+\n",
            "|  0|                 N/A|           24819|                  30438|\n",
            "|  1|    Kashmere Gardens|           10055|                  23102|\n",
            "|  2|Trinity / Houston...|           15789|                  27789|\n",
            "|  3|           Settegast|            2981|                  28821|\n",
            "|  4|Denver Harbor / P...|           17571|                  29273|\n",
            "|  5|          South Park|           21208|                  29475|\n",
            "|  6|            Westwood|           19530|                  29527|\n",
            "|  7|  Greater Fifth Ward|           19687|                  30535|\n",
            "|  8|Clinton Park / Tr...|            3140|                  31826|\n",
            "|  9|        East Houston|           18580|                  31826|\n",
            "| 10|       Magnolia Park|           16999|                  32039|\n",
            "| 11|Gulfgate Rivervie...|           12723|                  32595|\n",
            "| 12|       Pleasantville|            2860|                  32899|\n",
            "| 13|     Eastex - Jensen|           25724|                  32923|\n",
            "| 14|          Sharpstown|           77220|                  33086|\n",
            "| 15|Northside / North...|           59410|                  33713|\n",
            "| 16| Greater Greenspoint|           41392|                  33909|\n",
            "| 17|Greater OST / Sou...|           19141|                  34019|\n",
            "| 18|       Hidden Valley|            3569|                  34452|\n",
            "| 19|          Pecan Park|           16259|                  34622|\n",
            "+---+--------------------+----------------+-----------------------+\n",
            "only showing top 20 rows\n",
            "\n"
          ]
        }
      ]
    },
    {
      "cell_type": "code",
      "source": [
        "#Check datatype\n",
        "df_table.printSchema"
      ],
      "metadata": {
        "colab": {
          "base_uri": "https://localhost:8080/"
        },
        "id": "KiIM0pkORzoS",
        "outputId": "321b2453-dc6a-4578-a316-f35c002746e8"
      },
      "execution_count": 201,
      "outputs": [
        {
          "output_type": "execute_result",
          "data": {
            "text/plain": [
              "<bound method DataFrame.printSchema of DataFrame[id: int, name: string, total_population: int, median_household_income: int]>"
            ]
          },
          "metadata": {},
          "execution_count": 201
        }
      ]
    },
    {
      "cell_type": "code",
      "source": [
        "# Store environmental variable\n",
        "\n",
        "from getpass import getpass\n",
        "password = getpass('Enter database password')\n",
        "\n",
        "# Configure settings for RDS\n",
        "\n",
        "mode = \"append\"\n",
        "jdbc_url=\"jdbc:postgresql://hhpp-db.cib8i0dtf6rx.us-east-1.rds.amazonaws.com:5432/hhppdb\"\n",
        "config = {\"user\":\"postgres\", \n",
        "          \"password\": password, \n",
        "          \"driver\":\"org.postgresql.Driver\"}"
      ],
      "metadata": {
        "colab": {
          "base_uri": "https://localhost:8080/"
        },
        "id": "BZv2Rbtv0oUn",
        "outputId": "bd03e5a2-ba98-44fe-a494-a7f5535ac3d1"
      },
      "execution_count": 187,
      "outputs": [
        {
          "name": "stdout",
          "output_type": "stream",
          "text": [
            "Enter database password··········\n"
          ]
        }
      ]
    },
    {
      "cell_type": "code",
      "source": [
        "# Write df to super neighborhoods table in RDS\n",
        "df_table.write.jdbc(url=jdbc_url, table='houston_super_neighborhoods', mode=mode, properties=config)"
      ],
      "metadata": {
        "id": "qwGxn4MW1-9J"
      },
      "execution_count": null,
      "outputs": []
    },
    {
      "cell_type": "code",
      "source": [
        "# Read super neighborhoods table from database\n",
        "read_df = spark.read.jdbc(url=jdbc_url, table='houston_super_neighborhoods', properties=config)\n",
        "read_df.show()"
      ],
      "metadata": {
        "colab": {
          "base_uri": "https://localhost:8080/"
        },
        "id": "wPiXgld35twa",
        "outputId": "c47cfaae-a6c2-49a8-cd35-1ffbe24ce28a"
      },
      "execution_count": 188,
      "outputs": [
        {
          "output_type": "stream",
          "name": "stdout",
          "text": [
            "+---+--------------------+----------------+-----------------------+\n",
            "| id|                name|total_population|median_household_income|\n",
            "+---+--------------------+----------------+-----------------------+\n",
            "|  0|                 N/A|           24819|                  30438|\n",
            "|  1|    Kashmere Gardens|           10055|                  23102|\n",
            "|  2|Trinity / Houston...|           15789|                  27789|\n",
            "|  3|           Settegast|            2981|                  28821|\n",
            "|  4|Denver Harbor / P...|           17571|                  29273|\n",
            "|  5|          South Park|           21208|                  29475|\n",
            "|  6|            Westwood|           19530|                  29527|\n",
            "|  7|  Greater Fifth Ward|           19687|                  30535|\n",
            "|  8|Clinton Park / Tr...|            3140|                  31826|\n",
            "|  9|        East Houston|           18580|                  31826|\n",
            "| 10|       Magnolia Park|           16999|                  32039|\n",
            "| 11|Gulfgate Rivervie...|           12723|                  32595|\n",
            "| 12|       Pleasantville|            2860|                  32899|\n",
            "| 13|     Eastex - Jensen|           25724|                  32923|\n",
            "| 14|          Sharpstown|           77220|                  33086|\n",
            "| 15|Northside / North...|           59410|                  33713|\n",
            "| 16| Greater Greenspoint|           41392|                  33909|\n",
            "| 17|Greater OST / Sou...|           19141|                  34019|\n",
            "| 18|       Hidden Valley|            3569|                  34452|\n",
            "| 19|          Pecan Park|           16259|                  34622|\n",
            "+---+--------------------+----------------+-----------------------+\n",
            "only showing top 20 rows\n",
            "\n"
          ]
        }
      ]
    },
    {
      "cell_type": "code",
      "source": [
        "from IPython.utils import encoding\n",
        "#import the properties csv\n",
        "url = \"https://hhpp-bucket.s3.amazonaws.com/Cleaned_Properties_IDs_fixed.csv\"\n",
        "spark.sparkContext.addFile(url)\n",
        "df_properties = spark.read.csv(SparkFiles.get(\"Cleaned_Properties_IDs_fixed.csv\"), sep=\",\", header=True, inferSchema=True)\n",
        "df_properties.show()"
      ],
      "metadata": {
        "colab": {
          "base_uri": "https://localhost:8080/"
        },
        "id": "mm_wQ8OkXMBB",
        "outputId": "4d63fe5e-8b4b-4a2f-e261-4dc3f26ec270"
      },
      "execution_count": 191,
      "outputs": [
        {
          "output_type": "stream",
          "name": "stdout",
          "text": [
            "+---+---+--------------------+--------+--------------------+---+-----+----+-------+----+\n",
            "|_c0| id|             address|   price|                type|bed| sqft|walk|transit|bike|\n",
            "+---+---+--------------------+--------+--------------------+---+-----+----+-------+----+\n",
            "|  0| 80|4031 Wilderness F...|  369900|Single family res...|  2| 2395|  53|      0|  47|\n",
            "|  1| 40|19410 Leafwood Ln...|  220000|Single family res...|  3| 1384|  34|      0|  52|\n",
            "|  2|  0|13219 Liliana Gle...|  242500|Single family res...|  3| 1597|   8|      0|  26|\n",
            "|  3|  0|13219 Liliana Gle...|  129900|               Ranch|  3| 1170|  11|     25|  28|\n",
            "|  4| 17|4959 Culmore Dr, ...|  345000|Single family res...|  4| 1925|  50|     54|  56|\n",
            "|  5|  0|13219 Liliana Gle...|  260000|Single family res...|  3| 1296|  75|     43|  60|\n",
            "|  6| 62|803 Martin Rd A, ...|  449900|Single family res...|  3| 1861|  39|     47|  43|\n",
            "|  7| 77|1806 Royal Fern C...| 1089500|Single family res...|  5| 5456|  24|      0|  44|\n",
            "|  8| 85|5850 Petty St, Ho...|  495000|Single family res...|  4| 2611|  38|     39|  41|\n",
            "|  9|  0|5606 Champions Gl...|  369500|Single family res...|  3| 2794|  16|      0|  30|\n",
            "| 11| 84|1000 Kirby Dr, Ho...|15995000|Single family res...| 10|22880|  34|     46|  61|\n",
            "| 14|  0|7138 Hollow Cedar...|  306000|Single family res...|  5| 3159|  18|      0|  32|\n",
            "| 15| 39|6215 Maywood Fore...|  255000|Single family res...|  3| 1990|  31|     33|  34|\n",
            "| 16| 46|4948 Leeland St, ...|  429900|Single family res...|  2| 1546|  79|     57|  66|\n",
            "| 17|  0|14042 Coveney Dr,...|  300000|Single family res...|  4| 2905|  15|     24|  28|\n",
            "| 18| 80|3603 Glenwood Spr...|  260000|Single family res...|  4| 2143|  21|      0|  42|\n",
            "| 19| 17|3915 Daphne St, H...|  157000|               Ranch|  2| 1300|  63|     49|  53|\n",
            "| 20| 37|4508 Old Yale St ...|  369900|Single family res...|  3| 1574|  53|     47|  73|\n",
            "| 21| 80|2807 Sandberry Dr...|  279000|Single family res...|  3| 1964|  45|      0|  36|\n",
            "| 22| 45|306 Fellows Rd, H...|  225000|Single family res...|  3| 2096|  20|      0|  31|\n",
            "+---+---+--------------------+--------+--------------------+---+-----+----+-------+----+\n",
            "only showing top 20 rows\n",
            "\n"
          ]
        }
      ]
    },
    {
      "cell_type": "code",
      "source": [
        "#rename the first two colums to fit the sql table name scheme\n",
        "df_properties_rename = df_properties.withColumnRenamed(\"id\", \"super_id\")\n",
        "df_properties_rename2 = df_properties_rename.withColumnRenamed(\"_c0\", \"id\")\n",
        "df_properties_rename2.show()"
      ],
      "metadata": {
        "colab": {
          "base_uri": "https://localhost:8080/"
        },
        "id": "DV2QUXRMf20Z",
        "outputId": "b6637d3e-8314-41ba-d5a0-d12330de0cc0"
      },
      "execution_count": 192,
      "outputs": [
        {
          "output_type": "stream",
          "name": "stdout",
          "text": [
            "+---+--------+--------------------+--------+--------------------+---+-----+----+-------+----+\n",
            "| id|super_id|             address|   price|                type|bed| sqft|walk|transit|bike|\n",
            "+---+--------+--------------------+--------+--------------------+---+-----+----+-------+----+\n",
            "|  0|      80|4031 Wilderness F...|  369900|Single family res...|  2| 2395|  53|      0|  47|\n",
            "|  1|      40|19410 Leafwood Ln...|  220000|Single family res...|  3| 1384|  34|      0|  52|\n",
            "|  2|       0|13219 Liliana Gle...|  242500|Single family res...|  3| 1597|   8|      0|  26|\n",
            "|  3|       0|13219 Liliana Gle...|  129900|               Ranch|  3| 1170|  11|     25|  28|\n",
            "|  4|      17|4959 Culmore Dr, ...|  345000|Single family res...|  4| 1925|  50|     54|  56|\n",
            "|  5|       0|13219 Liliana Gle...|  260000|Single family res...|  3| 1296|  75|     43|  60|\n",
            "|  6|      62|803 Martin Rd A, ...|  449900|Single family res...|  3| 1861|  39|     47|  43|\n",
            "|  7|      77|1806 Royal Fern C...| 1089500|Single family res...|  5| 5456|  24|      0|  44|\n",
            "|  8|      85|5850 Petty St, Ho...|  495000|Single family res...|  4| 2611|  38|     39|  41|\n",
            "|  9|       0|5606 Champions Gl...|  369500|Single family res...|  3| 2794|  16|      0|  30|\n",
            "| 11|      84|1000 Kirby Dr, Ho...|15995000|Single family res...| 10|22880|  34|     46|  61|\n",
            "| 14|       0|7138 Hollow Cedar...|  306000|Single family res...|  5| 3159|  18|      0|  32|\n",
            "| 15|      39|6215 Maywood Fore...|  255000|Single family res...|  3| 1990|  31|     33|  34|\n",
            "| 16|      46|4948 Leeland St, ...|  429900|Single family res...|  2| 1546|  79|     57|  66|\n",
            "| 17|       0|14042 Coveney Dr,...|  300000|Single family res...|  4| 2905|  15|     24|  28|\n",
            "| 18|      80|3603 Glenwood Spr...|  260000|Single family res...|  4| 2143|  21|      0|  42|\n",
            "| 19|      17|3915 Daphne St, H...|  157000|               Ranch|  2| 1300|  63|     49|  53|\n",
            "| 20|      37|4508 Old Yale St ...|  369900|Single family res...|  3| 1574|  53|     47|  73|\n",
            "| 21|      80|2807 Sandberry Dr...|  279000|Single family res...|  3| 1964|  45|      0|  36|\n",
            "| 22|      45|306 Fellows Rd, H...|  225000|Single family res...|  3| 2096|  20|      0|  31|\n",
            "+---+--------+--------------------+--------+--------------------+---+-----+----+-------+----+\n",
            "only showing top 20 rows\n",
            "\n"
          ]
        }
      ]
    },
    {
      "cell_type": "code",
      "source": [
        "#Check the data types of columns\n",
        "df_properties_rename2.printSchema"
      ],
      "metadata": {
        "colab": {
          "base_uri": "https://localhost:8080/"
        },
        "id": "_4qP1HIXAT5f",
        "outputId": "7016f490-2d0b-4d8d-f3f9-2b6877fb9681"
      },
      "execution_count": 193,
      "outputs": [
        {
          "output_type": "execute_result",
          "data": {
            "text/plain": [
              "<bound method DataFrame.printSchema of DataFrame[id: int, super_id: int, address: string, price: int, type: string, bed: string, sqft: string, walk: int, transit: int, bike: int]>"
            ]
          },
          "metadata": {},
          "execution_count": 193
        }
      ]
    },
    {
      "cell_type": "code",
      "source": [
        "# Import data types\n",
        "from traitlets.traitlets import Float\n",
        "from locale import currency\n",
        "from pyspark.sql.types import *\n",
        "\n",
        "#cast sqft and bed as int datatypes\n",
        "df_cast = df_properties_rename2.withColumn(\"sqft\", df_properties_rename2[\"sqft\"].cast(IntegerType()))\n",
        "df_cast2 = df_cast.withColumn(\"bed\", df_properties_rename2[\"bed\"].cast(IntegerType()))\n",
        "\n",
        "\n"
      ],
      "metadata": {
        "id": "6KpoqNLFDETp"
      },
      "execution_count": 194,
      "outputs": []
    },
    {
      "cell_type": "code",
      "source": [
        "#Check datatypes again\n",
        "#all correct\n",
        "df_cast2.printSchema"
      ],
      "metadata": {
        "colab": {
          "base_uri": "https://localhost:8080/"
        },
        "id": "qk0ryMbHDqlU",
        "outputId": "dc84df07-0b2b-4e27-b8bd-3914eb10b85f"
      },
      "execution_count": 195,
      "outputs": [
        {
          "output_type": "execute_result",
          "data": {
            "text/plain": [
              "<bound method DataFrame.printSchema of DataFrame[id: int, super_id: int, address: string, price: int, type: string, bed: int, sqft: int, walk: int, transit: int, bike: int]>"
            ]
          },
          "metadata": {},
          "execution_count": 195
        }
      ]
    },
    {
      "cell_type": "code",
      "source": [
        "# show new dataframe\n",
        "df_cast2.show()"
      ],
      "metadata": {
        "colab": {
          "base_uri": "https://localhost:8080/"
        },
        "id": "ET1Ej5uUE6k3",
        "outputId": "f31b70dc-1719-4d85-a8bc-7bc47195213b"
      },
      "execution_count": 196,
      "outputs": [
        {
          "output_type": "stream",
          "name": "stdout",
          "text": [
            "+---+--------+--------------------+--------+--------------------+---+-----+----+-------+----+\n",
            "| id|super_id|             address|   price|                type|bed| sqft|walk|transit|bike|\n",
            "+---+--------+--------------------+--------+--------------------+---+-----+----+-------+----+\n",
            "|  0|      80|4031 Wilderness F...|  369900|Single family res...|  2| 2395|  53|      0|  47|\n",
            "|  1|      40|19410 Leafwood Ln...|  220000|Single family res...|  3| 1384|  34|      0|  52|\n",
            "|  2|       0|13219 Liliana Gle...|  242500|Single family res...|  3| 1597|   8|      0|  26|\n",
            "|  3|       0|13219 Liliana Gle...|  129900|               Ranch|  3| 1170|  11|     25|  28|\n",
            "|  4|      17|4959 Culmore Dr, ...|  345000|Single family res...|  4| 1925|  50|     54|  56|\n",
            "|  5|       0|13219 Liliana Gle...|  260000|Single family res...|  3| 1296|  75|     43|  60|\n",
            "|  6|      62|803 Martin Rd A, ...|  449900|Single family res...|  3| 1861|  39|     47|  43|\n",
            "|  7|      77|1806 Royal Fern C...| 1089500|Single family res...|  5| 5456|  24|      0|  44|\n",
            "|  8|      85|5850 Petty St, Ho...|  495000|Single family res...|  4| 2611|  38|     39|  41|\n",
            "|  9|       0|5606 Champions Gl...|  369500|Single family res...|  3| 2794|  16|      0|  30|\n",
            "| 11|      84|1000 Kirby Dr, Ho...|15995000|Single family res...| 10|22880|  34|     46|  61|\n",
            "| 14|       0|7138 Hollow Cedar...|  306000|Single family res...|  5| 3159|  18|      0|  32|\n",
            "| 15|      39|6215 Maywood Fore...|  255000|Single family res...|  3| 1990|  31|     33|  34|\n",
            "| 16|      46|4948 Leeland St, ...|  429900|Single family res...|  2| 1546|  79|     57|  66|\n",
            "| 17|       0|14042 Coveney Dr,...|  300000|Single family res...|  4| 2905|  15|     24|  28|\n",
            "| 18|      80|3603 Glenwood Spr...|  260000|Single family res...|  4| 2143|  21|      0|  42|\n",
            "| 19|      17|3915 Daphne St, H...|  157000|               Ranch|  2| 1300|  63|     49|  53|\n",
            "| 20|      37|4508 Old Yale St ...|  369900|Single family res...|  3| 1574|  53|     47|  73|\n",
            "| 21|      80|2807 Sandberry Dr...|  279000|Single family res...|  3| 1964|  45|      0|  36|\n",
            "| 22|      45|306 Fellows Rd, H...|  225000|Single family res...|  3| 2096|  20|      0|  31|\n",
            "+---+--------+--------------------+--------+--------------------+---+-----+----+-------+----+\n",
            "only showing top 20 rows\n",
            "\n"
          ]
        }
      ]
    },
    {
      "cell_type": "code",
      "source": [
        "# Write edited df to properties table in RDS\n",
        "df_cast2.write.jdbc(url=jdbc_url, table='properties', mode=mode, properties=config)"
      ],
      "metadata": {
        "id": "MKNB7VRtcEsU"
      },
      "execution_count": 199,
      "outputs": []
    },
    {
      "cell_type": "code",
      "source": [
        "# Read properties from table\n",
        "read_df_properties = spark.read.jdbc(url=jdbc_url, table='properties', properties=config)\n",
        "read_df_properties.show()"
      ],
      "metadata": {
        "colab": {
          "base_uri": "https://localhost:8080/"
        },
        "id": "wHOTkVy0hfDG",
        "outputId": "e8cb6359-7db6-42f6-bc3e-8836d093280a"
      },
      "execution_count": 200,
      "outputs": [
        {
          "output_type": "stream",
          "name": "stdout",
          "text": [
            "+---+--------+--------------------+--------------+--------------------+---+-----+----+-------+----+\n",
            "| id|super_id|             address|         price|                type|bed| sqft|walk|transit|bike|\n",
            "+---+--------+--------------------+--------------+--------------------+---+-----+----+-------+----+\n",
            "|  0|      80|4031 Wilderness F...|   $369,900.00|Single family res...|  2| 2395|  53|      0|  47|\n",
            "|  1|      40|19410 Leafwood Ln...|   $220,000.00|Single family res...|  3| 1384|  34|      0|  52|\n",
            "|  2|       0|13219 Liliana Gle...|   $242,500.00|Single family res...|  3| 1597|   8|      0|  26|\n",
            "|  3|       0|13219 Liliana Gle...|   $129,900.00|               Ranch|  3| 1170|  11|     25|  28|\n",
            "|  4|      17|4959 Culmore Dr, ...|   $345,000.00|Single family res...|  4| 1925|  50|     54|  56|\n",
            "|  5|       0|13219 Liliana Gle...|   $260,000.00|Single family res...|  3| 1296|  75|     43|  60|\n",
            "|  6|      62|803 Martin Rd A, ...|   $449,900.00|Single family res...|  3| 1861|  39|     47|  43|\n",
            "|  7|      77|1806 Royal Fern C...| $1,089,500.00|Single family res...|  5| 5456|  24|      0|  44|\n",
            "|  8|      85|5850 Petty St, Ho...|   $495,000.00|Single family res...|  4| 2611|  38|     39|  41|\n",
            "|  9|       0|5606 Champions Gl...|   $369,500.00|Single family res...|  3| 2794|  16|      0|  30|\n",
            "| 11|      84|1000 Kirby Dr, Ho...|$15,995,000.00|Single family res...| 10|22880|  34|     46|  61|\n",
            "| 14|       0|7138 Hollow Cedar...|   $306,000.00|Single family res...|  5| 3159|  18|      0|  32|\n",
            "| 15|      39|6215 Maywood Fore...|   $255,000.00|Single family res...|  3| 1990|  31|     33|  34|\n",
            "| 16|      46|4948 Leeland St, ...|   $429,900.00|Single family res...|  2| 1546|  79|     57|  66|\n",
            "| 17|       0|14042 Coveney Dr,...|   $300,000.00|Single family res...|  4| 2905|  15|     24|  28|\n",
            "| 18|      80|3603 Glenwood Spr...|   $260,000.00|Single family res...|  4| 2143|  21|      0|  42|\n",
            "| 19|      17|3915 Daphne St, H...|   $157,000.00|               Ranch|  2| 1300|  63|     49|  53|\n",
            "| 20|      37|4508 Old Yale St ...|   $369,900.00|Single family res...|  3| 1574|  53|     47|  73|\n",
            "| 21|      80|2807 Sandberry Dr...|   $279,000.00|Single family res...|  3| 1964|  45|      0|  36|\n",
            "| 22|      45|306 Fellows Rd, H...|   $225,000.00|Single family res...|  3| 2096|  20|      0|  31|\n",
            "+---+--------+--------------------+--------------+--------------------+---+-----+----+-------+----+\n",
            "only showing top 20 rows\n",
            "\n"
          ]
        }
      ]
    },
    {
      "cell_type": "code",
      "source": [
        "#Read superneighborhoods table\n",
        "read_df.show()"
      ],
      "metadata": {
        "colab": {
          "base_uri": "https://localhost:8080/"
        },
        "id": "pBtaFqDZ32Wy",
        "outputId": "a3477c77-6cc5-4ebd-c66d-33e576b9f66e"
      },
      "execution_count": null,
      "outputs": [
        {
          "output_type": "stream",
          "name": "stdout",
          "text": [
            "+---+--------------------+----------------+-----------------------+\n",
            "| id|                name|total_population|median_household_income|\n",
            "+---+--------------------+----------------+-----------------------+\n",
            "|  0|                 N/A|           24819|                  30438|\n",
            "|  1|    Kashmere Gardens|           10055|                  23102|\n",
            "|  2|Trinity / Houston...|           15789|                  27789|\n",
            "|  3|           Settegast|            2981|                  28821|\n",
            "|  4|Denver Harbor / P...|           17571|                  29273|\n",
            "|  5|          South Park|           21208|                  29475|\n",
            "|  6|            Westwood|           19530|                  29527|\n",
            "|  7|  Greater Fifth Ward|           19687|                  30535|\n",
            "|  8|Clinton Park / Tr...|            3140|                  31826|\n",
            "|  9|        East Houston|           18580|                  31826|\n",
            "| 10|       Magnolia Park|           16999|                  32039|\n",
            "| 11|Gulfgate Rivervie...|           12723|                  32595|\n",
            "| 12|       Pleasantville|            2860|                  32899|\n",
            "| 13|     Eastex - Jensen|           25724|                  32923|\n",
            "| 14|          Sharpstown|           77220|                  33086|\n",
            "| 15|Northside / North...|           59410|                  33713|\n",
            "| 16| Greater Greenspoint|           41392|                  33909|\n",
            "| 17|Greater OST / Sou...|           19141|                  34019|\n",
            "| 18|       Hidden Valley|            3569|                  34452|\n",
            "| 19|          Pecan Park|           16259|                  34622|\n",
            "+---+--------------------+----------------+-----------------------+\n",
            "only showing top 20 rows\n",
            "\n"
          ]
        }
      ]
    },
    {
      "cell_type": "code",
      "source": [
        "df_joined = read_df.join(read_df_properties, read_df.id == read_df_properties.super_id, \"inner\").select(read_df_properties[\"super_id\"],read_df[\"name\"],\n",
        "                                                                                                        read_df[\"total_population\"],\n",
        "                                                                                                        read_df[\"median_household_income\"],\n",
        "                                                                                                        read_df_properties[\"address\"],\n",
        "                                                                                                        read_df_properties[\"price\"],\n",
        "                                                                                                        read_df_properties[\"type\"],\n",
        "                                                                                                        read_df_properties[\"bed\"],\n",
        "                                                                                                        read_df_properties[\"sqft\"],\n",
        "                                                                                                        read_df_properties[\"walk\"],\n",
        "                                                                                                        read_df_properties[\"transit\"],\n",
        "                                                                                                        read_df_properties[\"bike\"]\n",
        "                                                                                                        )\n",
        "df_joined.show()"
      ],
      "metadata": {
        "colab": {
          "base_uri": "https://localhost:8080/"
        },
        "id": "RX-88_7PUXKf",
        "outputId": "0ce8c13a-97f6-42ad-f46e-ec251f9fc9b4"
      },
      "execution_count": 208,
      "outputs": [
        {
          "output_type": "stream",
          "name": "stdout",
          "text": [
            "+--------+--------------------+----------------+-----------------------+--------------------+-------------+--------------------+---+----+----+-------+----+\n",
            "|super_id|                name|total_population|median_household_income|             address|        price|                type|bed|sqft|walk|transit|bike|\n",
            "+--------+--------------------+----------------+-----------------------+--------------------+-------------+--------------------+---+----+----+-------+----+\n",
            "|      31|  Greater Third Ward|           14295|                  40523|2410 Truxillo St,...|  $599,990.00|             Triplex|  3|3514|  77|     53|  83|\n",
            "|      31|  Greater Third Ward|           14295|                  40523|2909 Cleburne St,...|  $500,000.00|              Duplex|  2|2046|  67|     52|  76|\n",
            "|      31|  Greater Third Ward|           14295|                  40523|2518 Cleburne St,...|$1,749,900.00|              Duplex|  4|3096|  69|     50|  79|\n",
            "|      31|  Greater Third Ward|           14295|                  40523|2120 Alabama St, ...|  $344,900.00|Single family res...|  4|2145|  77|     56|  81|\n",
            "|      31|  Greater Third Ward|           14295|                  40523|2327 Saint Emanue...|  $545,000.00|Single family res...|  4|2800|  50|     50|  50|\n",
            "|      31|  Greater Third Ward|           14295|                  40523|2307 Berry St, Ho...|  $475,000.00|           Townhouse|  3|2306|  50|     50|  50|\n",
            "|      85|Washington Avenue...|           29033|                  99302|5850 Petty St, Ho...|  $495,000.00|Single family res...|  4|2611|  38|     39|  41|\n",
            "|      85|Washington Avenue...|           29033|                  99302|5450 Crooms St, H...|  $430,000.00|           Townhouse|  3|2217|  73|     45|  45|\n",
            "|      85|Washington Avenue...|           29033|                  99302|915 E Heights Hol...|  $350,000.00|           Townhouse|  2|1644|  78|     49|  75|\n",
            "|      85|Washington Avenue...|           29033|                  99302|185 Asbury St, Ho...|  $439,900.00|           Townhouse|  2|2242|  69|     44|  37|\n",
            "|      85|Washington Avenue...|           29033|                  99302|5110 Eigel St, Ho...|  $475,000.00|           Townhouse|  3|2681|  84|     45|  52|\n",
            "|      85|Washington Avenue...|           29033|                  99302|6602 Wanita Pl A,...|$1,375,000.00|           Townhouse|  4|3859|  55|     38|  48|\n",
            "|      85|Washington Avenue...|           29033|                  99302|234 Detering St, ...|  $500,000.00|           Townhouse|  3|2348|  74|     47|  58|\n",
            "|      85|Washington Avenue...|           29033|                  99302|4306 Center St, H...|  $599,000.00|           Townhouse|  4|2462|  77|     49|  58|\n",
            "|      85|Washington Avenue...|           29033|                  99302|5507 Darling St, ...|  $469,500.00|           Townhouse|  3|2348|  61|     41|  43|\n",
            "|      85|Washington Avenue...|           29033|                  99302|6308 Taggart St B...|  $635,000.00|           Townhouse|  3|2656|  74|     41|  54|\n",
            "|      85|Washington Avenue...|           29033|                  99302|403 Roy St, Houst...|  $480,000.00|           Townhouse|  2|2032|  80|     48|  66|\n",
            "|      85|Washington Avenue...|           29033|                  99302|503 Detering St, ...|  $480,000.00|           Townhouse|  3|2424|  82|     46|  60|\n",
            "|      85|Washington Avenue...|           29033|                  99302|6126 Tyne St, Hou...|  $385,000.00|              Duplex|  2|1430|  62|     39|  52|\n",
            "|      85|Washington Avenue...|           29033|                  99302|1513 Reinerman St...|  $449,000.00|           Townhouse|  3|2520|  84|     45|  52|\n",
            "+--------+--------------------+----------------+-----------------------+--------------------+-------------+--------------------+---+----+----+-------+----+\n",
            "only showing top 20 rows\n",
            "\n"
          ]
        }
      ]
    }
  ]
}