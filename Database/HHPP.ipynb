{
  "nbformat": 4,
  "nbformat_minor": 0,
  "metadata": {
    "colab": {
      "provenance": [],
      "collapsed_sections": []
    },
    "kernelspec": {
      "name": "python3",
      "display_name": "Python 3"
    },
    "language_info": {
      "name": "python"
    }
  },
  "cells": [
    {
      "cell_type": "code",
      "execution_count": 1,
      "metadata": {
        "colab": {
          "base_uri": "https://localhost:8080/"
        },
        "id": "-02X8Objv8FX",
        "outputId": "aa4d259b-54c6-4caf-a6f4-2f3c8f0d1494"
      },
      "outputs": [
        {
          "output_type": "stream",
          "name": "stdout",
          "text": [
            "\r0% [Working]\r            \rHit:1 http://archive.ubuntu.com/ubuntu bionic InRelease\n",
            "\r0% [Connecting to security.ubuntu.com (185.125.190.39)] [Connected to cloud.r-p\r0% [1 InRelease gpgv 242 kB] [Waiting for headers] [Connecting to security.ubun\r                                                                               \rGet:2 http://archive.ubuntu.com/ubuntu bionic-updates InRelease [88.7 kB]\n",
            "Get:3 https://cloud.r-project.org/bin/linux/ubuntu bionic-cran40/ InRelease [3,626 B]\n",
            "Get:4 http://security.ubuntu.com/ubuntu bionic-security InRelease [88.7 kB]\n",
            "Get:5 http://ppa.launchpad.net/c2d4u.team/c2d4u4.0+/ubuntu bionic InRelease [15.9 kB]\n",
            "Ign:6 https://developer.download.nvidia.com/compute/machine-learning/repos/ubuntu1804/x86_64  InRelease\n",
            "Get:7 http://archive.ubuntu.com/ubuntu bionic-backports InRelease [83.3 kB]\n",
            "Hit:8 https://developer.download.nvidia.com/compute/cuda/repos/ubuntu1804/x86_64  InRelease\n",
            "Hit:9 https://developer.download.nvidia.com/compute/machine-learning/repos/ubuntu1804/x86_64  Release\n",
            "Hit:10 http://ppa.launchpad.net/cran/libgit2/ubuntu bionic InRelease\n",
            "Hit:11 http://ppa.launchpad.net/deadsnakes/ppa/ubuntu bionic InRelease\n",
            "Hit:12 http://ppa.launchpad.net/graphics-drivers/ppa/ubuntu bionic InRelease\n",
            "Get:13 http://archive.ubuntu.com/ubuntu bionic-updates/main amd64 Packages [3,422 kB]\n",
            "Get:14 http://archive.ubuntu.com/ubuntu bionic-updates/universe amd64 Packages [2,322 kB]\n",
            "Get:15 http://archive.ubuntu.com/ubuntu bionic-backports/universe amd64 Packages [20.6 kB]\n",
            "Get:16 http://archive.ubuntu.com/ubuntu bionic-backports/main amd64 Packages [64.0 kB]\n",
            "Get:18 http://ppa.launchpad.net/c2d4u.team/c2d4u4.0+/ubuntu bionic/main amd64 Packages [1,080 kB]\n",
            "Get:19 http://security.ubuntu.com/ubuntu bionic-security/universe amd64 Packages [1,545 kB]\n",
            "Get:20 http://security.ubuntu.com/ubuntu bionic-security/main amd64 Packages [2,990 kB]\n",
            "Fetched 11.7 MB in 5s (2,226 kB/s)\n",
            "Reading package lists... Done\n"
          ]
        }
      ],
      "source": [
        "import os\n",
        "# Find the latest version of spark 3.0 from http://www.apache.org/dist/spark/ and enter as the spark version\n",
        "# For example:\n",
        "# spark_version = 'spark-3.0.3'\n",
        "spark_version = 'spark-3.3.0'\n",
        "os.environ['SPARK_VERSION']=spark_version\n",
        "\n",
        "# Install Spark and Java\n",
        "!apt-get update\n",
        "!apt-get install openjdk-11-jdk-headless -qq > /dev/null\n",
        "!wget -q http://www.apache.org/dist/spark/$SPARK_VERSION/$SPARK_VERSION-bin-hadoop3.tgz\n",
        "!tar xf $SPARK_VERSION-bin-hadoop3.tgz\n",
        "!pip install -q findspark\n",
        "\n",
        "# Set Environment Variables\n",
        "import os\n",
        "os.environ[\"JAVA_HOME\"] = \"/usr/lib/jvm/java-11-openjdk-amd64\"\n",
        "os.environ[\"SPARK_HOME\"] = f\"/content/{spark_version}-bin-hadoop3\"\n",
        "\n",
        "# Start a SparkSession\n",
        "import findspark\n",
        "findspark.init()"
      ]
    },
    {
      "cell_type": "code",
      "source": [
        "# Download the Postgres driver that will allow Spark to interact with Postgres.\n",
        "!wget https://jdbc.postgresql.org/download/postgresql-42.2.16.jar"
      ],
      "metadata": {
        "colab": {
          "base_uri": "https://localhost:8080/"
        },
        "id": "s0fyakKxwVyH",
        "outputId": "1608f8ec-e4cc-4843-b2ca-2b7318dc57f1"
      },
      "execution_count": 2,
      "outputs": [
        {
          "output_type": "stream",
          "name": "stdout",
          "text": [
            "--2022-09-25 02:30:23--  https://jdbc.postgresql.org/download/postgresql-42.2.16.jar\n",
            "Resolving jdbc.postgresql.org (jdbc.postgresql.org)... 72.32.157.228, 2001:4800:3e1:1::228\n",
            "Connecting to jdbc.postgresql.org (jdbc.postgresql.org)|72.32.157.228|:443... connected.\n",
            "HTTP request sent, awaiting response... 200 OK\n",
            "Length: 1002883 (979K) [application/java-archive]\n",
            "Saving to: ‘postgresql-42.2.16.jar’\n",
            "\n",
            "postgresql-42.2.16. 100%[===================>] 979.38K  5.73MB/s    in 0.2s    \n",
            "\n",
            "2022-09-25 02:30:24 (5.73 MB/s) - ‘postgresql-42.2.16.jar’ saved [1002883/1002883]\n",
            "\n"
          ]
        }
      ]
    },
    {
      "cell_type": "code",
      "source": [
        "from pyspark.sql import SparkSession\n",
        "spark = SparkSession.builder.appName(\"M16-Amazon-Challenge\").config(\"spark.driver.extraClassPath\",\"/content/postgresql-42.2.16.jar\").getOrCreate()"
      ],
      "metadata": {
        "id": "pgyLRdmgwbBQ"
      },
      "execution_count": 3,
      "outputs": []
    },
    {
      "cell_type": "code",
      "source": [
        "#import csv from aws bucket\n",
        "from pyspark import SparkFiles\n",
        "url = \"https://hhpp-bucket.s3.amazonaws.com/HoustonSuperNeighborhoods.csv\"\n",
        "spark.sparkContext.addFile(url)\n",
        "df = spark.read.csv(SparkFiles.get(\"HoustonSuperNeighborhoods.csv\"), sep=\",\", header=True, inferSchema=True)\n",
        "df.show()"
      ],
      "metadata": {
        "colab": {
          "base_uri": "https://localhost:8080/"
        },
        "id": "zXEyQMPJwebl",
        "outputId": "c678f8ff-cb90-40c3-b845-8bf96182d1e6"
      },
      "execution_count": 22,
      "outputs": [
        {
          "output_type": "stream",
          "name": "stdout",
          "text": [
            "+---+--------------------+----------------+-----------------------+\n",
            "| id|                name|total_population|median_household_income|\n",
            "+---+--------------------+----------------+-----------------------+\n",
            "|  1|    Kashmere Gardens|         10055.0|                23102.0|\n",
            "|  2|Trinity / Houston...|         15789.0|                27789.0|\n",
            "|  3|           Settegast|          2981.0|                28821.0|\n",
            "|  4|Denver Harbor / P...|         17571.0|                29273.0|\n",
            "|  5|          South Park|         21208.0|                29475.0|\n",
            "|  6|            Westwood|         19530.0|                29527.0|\n",
            "|  7|  Greater Fifth Ward|         19687.0|                30535.0|\n",
            "|  8|Clinton Park / Tr...|          3140.0|                31826.0|\n",
            "|  9|        East Houston|         18580.0|                31826.0|\n",
            "| 10|       Magnolia Park|         16999.0|                32039.0|\n",
            "| 11|Gulfgate Rivervie...|         12723.0|                32595.0|\n",
            "| 12|       Pleasantville|          2860.0|                32899.0|\n",
            "| 13|     Eastex - Jensen|         25724.0|                32923.0|\n",
            "| 14|          Sharpstown|         77220.0|                33086.0|\n",
            "| 15|Northside / North...|         59410.0|                33713.0|\n",
            "| 16| Greater Greenspoint|         41392.0|                33909.0|\n",
            "| 17|Greater OST / Sou...|         19141.0|                34019.0|\n",
            "| 18|       Hidden Valley|          3569.0|                34452.0|\n",
            "| 19|          Pecan Park|         16259.0|                34622.0|\n",
            "| 20|Golfcrest / Bellf...|         51432.0|                34731.0|\n",
            "+---+--------------------+----------------+-----------------------+\n",
            "only showing top 20 rows\n",
            "\n"
          ]
        }
      ]
    },
    {
      "cell_type": "code",
      "source": [
        "#gathering total_population information to find mean and add to data\n",
        "df_describe =df.select([\"total_population\"])\n",
        "df_describe.show()\n"
      ],
      "metadata": {
        "colab": {
          "base_uri": "https://localhost:8080/"
        },
        "id": "vk6xikgbQY8S",
        "outputId": "db25155c-363b-40ce-f14a-8e5daba716fc"
      },
      "execution_count": 23,
      "outputs": [
        {
          "output_type": "stream",
          "name": "stdout",
          "text": [
            "+----------------+\n",
            "|total_population|\n",
            "+----------------+\n",
            "|         10055.0|\n",
            "|         15789.0|\n",
            "|          2981.0|\n",
            "|         17571.0|\n",
            "|         21208.0|\n",
            "|         19530.0|\n",
            "|         19687.0|\n",
            "|          3140.0|\n",
            "|         18580.0|\n",
            "|         16999.0|\n",
            "|         12723.0|\n",
            "|          2860.0|\n",
            "|         25724.0|\n",
            "|         77220.0|\n",
            "|         59410.0|\n",
            "|         41392.0|\n",
            "|         19141.0|\n",
            "|          3569.0|\n",
            "|         16259.0|\n",
            "|         51432.0|\n",
            "+----------------+\n",
            "only showing top 20 rows\n",
            "\n"
          ]
        }
      ]
    },
    {
      "cell_type": "code",
      "source": [
        "#taking mean and creating new row in data. Adding mean for total_population of no super neighborhood row\n",
        "df_describe.describe().show()"
      ],
      "metadata": {
        "colab": {
          "base_uri": "https://localhost:8080/"
        },
        "id": "Rk35dN3ISGtN",
        "outputId": "b25e1418-507c-4040-b433-e6653abbf4b5"
      },
      "execution_count": 24,
      "outputs": [
        {
          "output_type": "stream",
          "name": "stdout",
          "text": [
            "+-------+------------------+\n",
            "|summary|  total_population|\n",
            "+-------+------------------+\n",
            "|  count|                88|\n",
            "|   mean|24819.045454545456|\n",
            "| stddev|20102.476331078928|\n",
            "|    min|            1951.0|\n",
            "|    max|          106657.0|\n",
            "+-------+------------------+\n",
            "\n"
          ]
        }
      ]
    },
    {
      "cell_type": "code",
      "source": [
        "#after adding row 0 with new data we will upload the data from csv to database\n",
        "url = \"https://hhpp-bucket.s3.amazonaws.com/HoustonSuperNeighborhoodsUpdated.csv\"\n",
        "spark.sparkContext.addFile(url)\n",
        "df_table = spark.read.csv(SparkFiles.get(\"HoustonSuperNeighborhoodsUpdated.csv\"), sep=\",\", header=True, inferSchema=True)\n",
        "df_table.show()"
      ],
      "metadata": {
        "colab": {
          "base_uri": "https://localhost:8080/"
        },
        "id": "guON82usWE_7",
        "outputId": "cfff72cc-bdca-4467-eeea-9c92afc7e23b"
      },
      "execution_count": 25,
      "outputs": [
        {
          "output_type": "stream",
          "name": "stdout",
          "text": [
            "+---+--------------------+----------------+-----------------------+\n",
            "| id|                name|total_population|median_household_income|\n",
            "+---+--------------------+----------------+-----------------------+\n",
            "|  0|                 N/A|           24819|                  30438|\n",
            "|  1|    Kashmere Gardens|           10055|                  23102|\n",
            "|  2|Trinity / Houston...|           15789|                  27789|\n",
            "|  3|           Settegast|            2981|                  28821|\n",
            "|  4|Denver Harbor / P...|           17571|                  29273|\n",
            "|  5|          South Park|           21208|                  29475|\n",
            "|  6|            Westwood|           19530|                  29527|\n",
            "|  7|  Greater Fifth Ward|           19687|                  30535|\n",
            "|  8|Clinton Park / Tr...|            3140|                  31826|\n",
            "|  9|        East Houston|           18580|                  31826|\n",
            "| 10|       Magnolia Park|           16999|                  32039|\n",
            "| 11|Gulfgate Rivervie...|           12723|                  32595|\n",
            "| 12|       Pleasantville|            2860|                  32899|\n",
            "| 13|     Eastex - Jensen|           25724|                  32923|\n",
            "| 14|          Sharpstown|           77220|                  33086|\n",
            "| 15|Northside / North...|           59410|                  33713|\n",
            "| 16| Greater Greenspoint|           41392|                  33909|\n",
            "| 17|Greater OST / Sou...|           19141|                  34019|\n",
            "| 18|       Hidden Valley|            3569|                  34452|\n",
            "| 19|          Pecan Park|           16259|                  34622|\n",
            "+---+--------------------+----------------+-----------------------+\n",
            "only showing top 20 rows\n",
            "\n"
          ]
        }
      ]
    },
    {
      "cell_type": "code",
      "source": [
        "#Check datatype\n",
        "df_table.printSchema"
      ],
      "metadata": {
        "colab": {
          "base_uri": "https://localhost:8080/"
        },
        "id": "KiIM0pkORzoS",
        "outputId": "882d32fb-067a-4406-d7ec-1c4d09ec4f3a"
      },
      "execution_count": 26,
      "outputs": [
        {
          "output_type": "execute_result",
          "data": {
            "text/plain": [
              "<bound method DataFrame.printSchema of DataFrame[id: int, name: string, total_population: int, median_household_income: int]>"
            ]
          },
          "metadata": {},
          "execution_count": 26
        }
      ]
    },
    {
      "cell_type": "code",
      "source": [
        "# Store environmental variable\n",
        "\n",
        "from getpass import getpass\n",
        "password = getpass('Enter database password')\n",
        "\n",
        "# Configure settings for RDS\n",
        "\n",
        "mode = \"append\"\n",
        "jdbc_url=\"jdbc:postgresql://hhpp-db.cib8i0dtf6rx.us-east-1.rds.amazonaws.com:5432/hhppdb\"\n",
        "config = {\"user\":\"postgres\", \n",
        "          \"password\": password, \n",
        "          \"driver\":\"org.postgresql.Driver\"}"
      ],
      "metadata": {
        "colab": {
          "base_uri": "https://localhost:8080/"
        },
        "id": "BZv2Rbtv0oUn",
        "outputId": "6b55fc37-6f00-4071-f36b-374454e62305"
      },
      "execution_count": 27,
      "outputs": [
        {
          "name": "stdout",
          "output_type": "stream",
          "text": [
            "Enter database password··········\n"
          ]
        }
      ]
    },
    {
      "cell_type": "code",
      "source": [
        "# Write df to super neighborhoods table in RDS\n",
        "df_table.write.jdbc(url=jdbc_url, table='houston_super_neighborhoods', mode=mode, properties=config)"
      ],
      "metadata": {
        "id": "qwGxn4MW1-9J"
      },
      "execution_count": 28,
      "outputs": []
    },
    {
      "cell_type": "code",
      "source": [
        "# Read super neighborhoods table from database\n",
        "read_df = spark.read.jdbc(url=jdbc_url, table='houston_super_neighborhoods', properties=config)\n",
        "read_df.show()"
      ],
      "metadata": {
        "colab": {
          "base_uri": "https://localhost:8080/"
        },
        "id": "wPiXgld35twa",
        "outputId": "93dd24ae-1b0d-486e-fb32-c1ac27570ecd"
      },
      "execution_count": 29,
      "outputs": [
        {
          "output_type": "stream",
          "name": "stdout",
          "text": [
            "+---+--------------------+----------------+-----------------------+\n",
            "| id|                name|total_population|median_household_income|\n",
            "+---+--------------------+----------------+-----------------------+\n",
            "|  0|                 N/A|           24819|                  30438|\n",
            "|  1|    Kashmere Gardens|           10055|                  23102|\n",
            "|  2|Trinity / Houston...|           15789|                  27789|\n",
            "|  3|           Settegast|            2981|                  28821|\n",
            "|  4|Denver Harbor / P...|           17571|                  29273|\n",
            "|  5|          South Park|           21208|                  29475|\n",
            "|  6|            Westwood|           19530|                  29527|\n",
            "|  7|  Greater Fifth Ward|           19687|                  30535|\n",
            "|  8|Clinton Park / Tr...|            3140|                  31826|\n",
            "|  9|        East Houston|           18580|                  31826|\n",
            "| 10|       Magnolia Park|           16999|                  32039|\n",
            "| 11|Gulfgate Rivervie...|           12723|                  32595|\n",
            "| 12|       Pleasantville|            2860|                  32899|\n",
            "| 13|     Eastex - Jensen|           25724|                  32923|\n",
            "| 14|          Sharpstown|           77220|                  33086|\n",
            "| 15|Northside / North...|           59410|                  33713|\n",
            "| 16| Greater Greenspoint|           41392|                  33909|\n",
            "| 17|Greater OST / Sou...|           19141|                  34019|\n",
            "| 18|       Hidden Valley|            3569|                  34452|\n",
            "| 19|          Pecan Park|           16259|                  34622|\n",
            "+---+--------------------+----------------+-----------------------+\n",
            "only showing top 20 rows\n",
            "\n"
          ]
        }
      ]
    },
    {
      "cell_type": "code",
      "source": [
        "from IPython.utils import encoding\n",
        "#import the properties csv\n",
        "url = \"https://hhpp-bucket.s3.amazonaws.com/Property_IDs.csv\"\n",
        "spark.sparkContext.addFile(url)\n",
        "df_properties = spark.read.csv(SparkFiles.get(\"Property_IDs.csv\"), sep=\",\", header=True, inferSchema=True)\n",
        "df_properties.show()"
      ],
      "metadata": {
        "colab": {
          "base_uri": "https://localhost:8080/"
        },
        "id": "mm_wQ8OkXMBB",
        "outputId": "9de6d859-535c-4e92-fd94-348940c318e1"
      },
      "execution_count": 30,
      "outputs": [
        {
          "output_type": "stream",
          "name": "stdout",
          "text": [
            "+---+---+--------------------+--------+--------------------+---+-----+----+-------+----+-------+\n",
            "|_c0| id|             address|   price|                type|bed| sqft|walk|transit|bike|zipcode|\n",
            "+---+---+--------------------+--------+--------------------+---+-----+----+-------+----+-------+\n",
            "|  1| 80|4031 Wilderness F...|  369900|Single family res...|  2| 2395|  53|      0|  47|  77339|\n",
            "|  2| 40|19410 Leafwood Ln...|  220000|Single family res...|  3| 1384|  34|      0|  52|  77084|\n",
            "|  3|  0|13219 Liliana Gle...|  242500|Single family res...|  3| 1597|   8|      0|  26|  77044|\n",
            "|  4|  0|13219 Liliana Gle...|  129900|               Ranch|  3| 1170|  11|     25|  28|  77014|\n",
            "|  5| 17|4959 Culmore Dr, ...|  345000|Single family res...|  4| 1925|  50|     54|  56|  77021|\n",
            "|  6|  0|13219 Liliana Gle...|  260000|Single family res...|  3| 1296|  75|     43|  60|  77008|\n",
            "|  7| 62|803 Martin Rd A, ...|  449900|Single family res...|  3| 1861|  39|     47|  43|  77018|\n",
            "|  8| 77|1806 Royal Fern C...| 1089500|Single family res...|  5| 5456|  24|      0|  44|  77062|\n",
            "|  9| 85|5850 Petty St, Ho...|  495000|Single family res...|  4| 2611|  38|     39|  41|  77007|\n",
            "| 10|  0|5606 Champions Gl...|  369500|Single family res...|  3| 2794|  16|      0|  30|  77069|\n",
            "| 11| 84|1000 Kirby Dr, Ho...|15995000|Single family res...| 10|22880|  34|     46|  61|  77019|\n",
            "| 12|  0|7138 Hollow Cedar...|  306000|Single family res...|  5| 3159|  18|      0|  32|  77049|\n",
            "| 13| 39|6215 Maywood Fore...|  255000|Single family res...|  3| 1990|  31|     33|  34|  77088|\n",
            "| 14| 46|4948 Leeland St, ...|  429900|Single family res...|  2| 1546|  79|     57|  66|  77023|\n",
            "| 15|  0|14042 Coveney Dr,...|  300000|Single family res...|  4| 2905|  15|     24|  28|  77090|\n",
            "| 16| 80|3603 Glenwood Spr...|  260000|Single family res...|  4| 2143|  21|      0|  42|  77345|\n",
            "| 17| 17|3915 Daphne St, H...|  157000|               Ranch|  2| 1300|  63|     49|  53|  77021|\n",
            "| 18| 37|4508 Old Yale St ...|  369900|Single family res...|  3| 1574|  53|     47|  73|  77018|\n",
            "| 19| 80|2807 Sandberry Dr...|  279000|Single family res...|  3| 1964|  45|      0|  36|  77345|\n",
            "| 20| 45|306 Fellows Rd, H...|  225000|Single family res...|  3| 2096|  20|      0|  31|  77047|\n",
            "+---+---+--------------------+--------+--------------------+---+-----+----+-------+----+-------+\n",
            "only showing top 20 rows\n",
            "\n"
          ]
        }
      ]
    },
    {
      "cell_type": "code",
      "source": [
        "#rename the first two colums to fit the sql table name scheme\n",
        "df_properties_rename = df_properties.withColumnRenamed(\"id\", \"super_id\")\n",
        "df_properties_rename2 = df_properties_rename.withColumnRenamed(\"_c0\", \"id\")\n",
        "df_properties_rename2.show()"
      ],
      "metadata": {
        "colab": {
          "base_uri": "https://localhost:8080/"
        },
        "id": "DV2QUXRMf20Z",
        "outputId": "4de5d576-15ce-4dbd-fbad-eeba481cb739"
      },
      "execution_count": 31,
      "outputs": [
        {
          "output_type": "stream",
          "name": "stdout",
          "text": [
            "+---+--------+--------------------+--------+--------------------+---+-----+----+-------+----+-------+\n",
            "| id|super_id|             address|   price|                type|bed| sqft|walk|transit|bike|zipcode|\n",
            "+---+--------+--------------------+--------+--------------------+---+-----+----+-------+----+-------+\n",
            "|  1|      80|4031 Wilderness F...|  369900|Single family res...|  2| 2395|  53|      0|  47|  77339|\n",
            "|  2|      40|19410 Leafwood Ln...|  220000|Single family res...|  3| 1384|  34|      0|  52|  77084|\n",
            "|  3|       0|13219 Liliana Gle...|  242500|Single family res...|  3| 1597|   8|      0|  26|  77044|\n",
            "|  4|       0|13219 Liliana Gle...|  129900|               Ranch|  3| 1170|  11|     25|  28|  77014|\n",
            "|  5|      17|4959 Culmore Dr, ...|  345000|Single family res...|  4| 1925|  50|     54|  56|  77021|\n",
            "|  6|       0|13219 Liliana Gle...|  260000|Single family res...|  3| 1296|  75|     43|  60|  77008|\n",
            "|  7|      62|803 Martin Rd A, ...|  449900|Single family res...|  3| 1861|  39|     47|  43|  77018|\n",
            "|  8|      77|1806 Royal Fern C...| 1089500|Single family res...|  5| 5456|  24|      0|  44|  77062|\n",
            "|  9|      85|5850 Petty St, Ho...|  495000|Single family res...|  4| 2611|  38|     39|  41|  77007|\n",
            "| 10|       0|5606 Champions Gl...|  369500|Single family res...|  3| 2794|  16|      0|  30|  77069|\n",
            "| 11|      84|1000 Kirby Dr, Ho...|15995000|Single family res...| 10|22880|  34|     46|  61|  77019|\n",
            "| 12|       0|7138 Hollow Cedar...|  306000|Single family res...|  5| 3159|  18|      0|  32|  77049|\n",
            "| 13|      39|6215 Maywood Fore...|  255000|Single family res...|  3| 1990|  31|     33|  34|  77088|\n",
            "| 14|      46|4948 Leeland St, ...|  429900|Single family res...|  2| 1546|  79|     57|  66|  77023|\n",
            "| 15|       0|14042 Coveney Dr,...|  300000|Single family res...|  4| 2905|  15|     24|  28|  77090|\n",
            "| 16|      80|3603 Glenwood Spr...|  260000|Single family res...|  4| 2143|  21|      0|  42|  77345|\n",
            "| 17|      17|3915 Daphne St, H...|  157000|               Ranch|  2| 1300|  63|     49|  53|  77021|\n",
            "| 18|      37|4508 Old Yale St ...|  369900|Single family res...|  3| 1574|  53|     47|  73|  77018|\n",
            "| 19|      80|2807 Sandberry Dr...|  279000|Single family res...|  3| 1964|  45|      0|  36|  77345|\n",
            "| 20|      45|306 Fellows Rd, H...|  225000|Single family res...|  3| 2096|  20|      0|  31|  77047|\n",
            "+---+--------+--------------------+--------+--------------------+---+-----+----+-------+----+-------+\n",
            "only showing top 20 rows\n",
            "\n"
          ]
        }
      ]
    },
    {
      "cell_type": "code",
      "source": [
        "#Check the data types of columns\n",
        "df_properties_rename2.printSchema"
      ],
      "metadata": {
        "colab": {
          "base_uri": "https://localhost:8080/"
        },
        "id": "_4qP1HIXAT5f",
        "outputId": "89c3cf6f-0c2a-47b9-c98e-8ab20c1f2310"
      },
      "execution_count": 32,
      "outputs": [
        {
          "output_type": "execute_result",
          "data": {
            "text/plain": [
              "<bound method DataFrame.printSchema of DataFrame[id: int, super_id: int, address: string, price: int, type: string, bed: string, sqft: string, walk: int, transit: int, bike: int, zipcode: int]>"
            ]
          },
          "metadata": {},
          "execution_count": 32
        }
      ]
    },
    {
      "cell_type": "code",
      "source": [
        "# Import data types\n",
        "from traitlets.traitlets import Float\n",
        "from locale import currency\n",
        "from pyspark.sql.types import *\n",
        "\n",
        "#cast sqft and bed as int datatypes\n",
        "df_cast = df_properties_rename2.withColumn(\"sqft\", df_properties_rename2[\"sqft\"].cast(IntegerType()))\n",
        "df_cast2 = df_cast.withColumn(\"bed\", df_properties_rename2[\"bed\"].cast(IntegerType()))\n",
        "\n",
        "\n"
      ],
      "metadata": {
        "id": "6KpoqNLFDETp"
      },
      "execution_count": 33,
      "outputs": []
    },
    {
      "cell_type": "code",
      "source": [
        "#Check datatypes again\n",
        "#all correct\n",
        "df_cast2.printSchema"
      ],
      "metadata": {
        "colab": {
          "base_uri": "https://localhost:8080/"
        },
        "id": "qk0ryMbHDqlU",
        "outputId": "c530c9b1-7947-4c5f-a0c7-3a5789da1e96"
      },
      "execution_count": 34,
      "outputs": [
        {
          "output_type": "execute_result",
          "data": {
            "text/plain": [
              "<bound method DataFrame.printSchema of DataFrame[id: int, super_id: int, address: string, price: int, type: string, bed: int, sqft: int, walk: int, transit: int, bike: int, zipcode: int]>"
            ]
          },
          "metadata": {},
          "execution_count": 34
        }
      ]
    },
    {
      "cell_type": "code",
      "source": [
        "# show new dataframe\n",
        "df_cast2.show()"
      ],
      "metadata": {
        "colab": {
          "base_uri": "https://localhost:8080/"
        },
        "id": "ET1Ej5uUE6k3",
        "outputId": "74835e41-b237-4de3-cc55-37a1a6ff6358"
      },
      "execution_count": 35,
      "outputs": [
        {
          "output_type": "stream",
          "name": "stdout",
          "text": [
            "+---+--------+--------------------+--------+--------------------+---+-----+----+-------+----+-------+\n",
            "| id|super_id|             address|   price|                type|bed| sqft|walk|transit|bike|zipcode|\n",
            "+---+--------+--------------------+--------+--------------------+---+-----+----+-------+----+-------+\n",
            "|  1|      80|4031 Wilderness F...|  369900|Single family res...|  2| 2395|  53|      0|  47|  77339|\n",
            "|  2|      40|19410 Leafwood Ln...|  220000|Single family res...|  3| 1384|  34|      0|  52|  77084|\n",
            "|  3|       0|13219 Liliana Gle...|  242500|Single family res...|  3| 1597|   8|      0|  26|  77044|\n",
            "|  4|       0|13219 Liliana Gle...|  129900|               Ranch|  3| 1170|  11|     25|  28|  77014|\n",
            "|  5|      17|4959 Culmore Dr, ...|  345000|Single family res...|  4| 1925|  50|     54|  56|  77021|\n",
            "|  6|       0|13219 Liliana Gle...|  260000|Single family res...|  3| 1296|  75|     43|  60|  77008|\n",
            "|  7|      62|803 Martin Rd A, ...|  449900|Single family res...|  3| 1861|  39|     47|  43|  77018|\n",
            "|  8|      77|1806 Royal Fern C...| 1089500|Single family res...|  5| 5456|  24|      0|  44|  77062|\n",
            "|  9|      85|5850 Petty St, Ho...|  495000|Single family res...|  4| 2611|  38|     39|  41|  77007|\n",
            "| 10|       0|5606 Champions Gl...|  369500|Single family res...|  3| 2794|  16|      0|  30|  77069|\n",
            "| 11|      84|1000 Kirby Dr, Ho...|15995000|Single family res...| 10|22880|  34|     46|  61|  77019|\n",
            "| 12|       0|7138 Hollow Cedar...|  306000|Single family res...|  5| 3159|  18|      0|  32|  77049|\n",
            "| 13|      39|6215 Maywood Fore...|  255000|Single family res...|  3| 1990|  31|     33|  34|  77088|\n",
            "| 14|      46|4948 Leeland St, ...|  429900|Single family res...|  2| 1546|  79|     57|  66|  77023|\n",
            "| 15|       0|14042 Coveney Dr,...|  300000|Single family res...|  4| 2905|  15|     24|  28|  77090|\n",
            "| 16|      80|3603 Glenwood Spr...|  260000|Single family res...|  4| 2143|  21|      0|  42|  77345|\n",
            "| 17|      17|3915 Daphne St, H...|  157000|               Ranch|  2| 1300|  63|     49|  53|  77021|\n",
            "| 18|      37|4508 Old Yale St ...|  369900|Single family res...|  3| 1574|  53|     47|  73|  77018|\n",
            "| 19|      80|2807 Sandberry Dr...|  279000|Single family res...|  3| 1964|  45|      0|  36|  77345|\n",
            "| 20|      45|306 Fellows Rd, H...|  225000|Single family res...|  3| 2096|  20|      0|  31|  77047|\n",
            "+---+--------+--------------------+--------+--------------------+---+-----+----+-------+----+-------+\n",
            "only showing top 20 rows\n",
            "\n"
          ]
        }
      ]
    },
    {
      "cell_type": "code",
      "source": [
        "# Write edited df to properties table in RDS\n",
        "df_cast2.write.jdbc(url=jdbc_url, table='properties', mode=mode, properties=config)"
      ],
      "metadata": {
        "id": "MKNB7VRtcEsU"
      },
      "execution_count": 36,
      "outputs": []
    },
    {
      "cell_type": "code",
      "source": [
        "# Read properties from table\n",
        "read_df_properties = spark.read.jdbc(url=jdbc_url, table='properties', properties=config)\n",
        "read_df_properties.show()"
      ],
      "metadata": {
        "colab": {
          "base_uri": "https://localhost:8080/"
        },
        "id": "wHOTkVy0hfDG",
        "outputId": "89292c74-9db6-4398-f446-e1bf5632a8df"
      },
      "execution_count": 37,
      "outputs": [
        {
          "output_type": "stream",
          "name": "stdout",
          "text": [
            "+---+--------+--------------------+--------------+--------------------+---+-----+----+-------+----+-------+\n",
            "| id|super_id|             address|         price|                type|bed| sqft|walk|transit|bike|zipcode|\n",
            "+---+--------+--------------------+--------------+--------------------+---+-----+----+-------+----+-------+\n",
            "|  1|      80|4031 Wilderness F...|   $369,900.00|Single family res...|  2| 2395|  53|      0|  47|  77339|\n",
            "|  2|      40|19410 Leafwood Ln...|   $220,000.00|Single family res...|  3| 1384|  34|      0|  52|  77084|\n",
            "|  3|       0|13219 Liliana Gle...|   $242,500.00|Single family res...|  3| 1597|   8|      0|  26|  77044|\n",
            "|  4|       0|13219 Liliana Gle...|   $129,900.00|               Ranch|  3| 1170|  11|     25|  28|  77014|\n",
            "|  5|      17|4959 Culmore Dr, ...|   $345,000.00|Single family res...|  4| 1925|  50|     54|  56|  77021|\n",
            "|  6|       0|13219 Liliana Gle...|   $260,000.00|Single family res...|  3| 1296|  75|     43|  60|  77008|\n",
            "|  7|      62|803 Martin Rd A, ...|   $449,900.00|Single family res...|  3| 1861|  39|     47|  43|  77018|\n",
            "|  8|      77|1806 Royal Fern C...| $1,089,500.00|Single family res...|  5| 5456|  24|      0|  44|  77062|\n",
            "|  9|      85|5850 Petty St, Ho...|   $495,000.00|Single family res...|  4| 2611|  38|     39|  41|  77007|\n",
            "| 10|       0|5606 Champions Gl...|   $369,500.00|Single family res...|  3| 2794|  16|      0|  30|  77069|\n",
            "| 11|      84|1000 Kirby Dr, Ho...|$15,995,000.00|Single family res...| 10|22880|  34|     46|  61|  77019|\n",
            "| 12|       0|7138 Hollow Cedar...|   $306,000.00|Single family res...|  5| 3159|  18|      0|  32|  77049|\n",
            "| 13|      39|6215 Maywood Fore...|   $255,000.00|Single family res...|  3| 1990|  31|     33|  34|  77088|\n",
            "| 14|      46|4948 Leeland St, ...|   $429,900.00|Single family res...|  2| 1546|  79|     57|  66|  77023|\n",
            "| 15|       0|14042 Coveney Dr,...|   $300,000.00|Single family res...|  4| 2905|  15|     24|  28|  77090|\n",
            "| 16|      80|3603 Glenwood Spr...|   $260,000.00|Single family res...|  4| 2143|  21|      0|  42|  77345|\n",
            "| 17|      17|3915 Daphne St, H...|   $157,000.00|               Ranch|  2| 1300|  63|     49|  53|  77021|\n",
            "| 18|      37|4508 Old Yale St ...|   $369,900.00|Single family res...|  3| 1574|  53|     47|  73|  77018|\n",
            "| 19|      80|2807 Sandberry Dr...|   $279,000.00|Single family res...|  3| 1964|  45|      0|  36|  77345|\n",
            "| 20|      45|306 Fellows Rd, H...|   $225,000.00|Single family res...|  3| 2096|  20|      0|  31|  77047|\n",
            "+---+--------+--------------------+--------------+--------------------+---+-----+----+-------+----+-------+\n",
            "only showing top 20 rows\n",
            "\n"
          ]
        }
      ]
    },
    {
      "cell_type": "code",
      "source": [
        "#Read superneighborhoods table\n",
        "read_df.show()"
      ],
      "metadata": {
        "colab": {
          "base_uri": "https://localhost:8080/"
        },
        "id": "pBtaFqDZ32Wy",
        "outputId": "3bf92498-daf2-48e5-bc88-ea40b949d70f"
      },
      "execution_count": 38,
      "outputs": [
        {
          "output_type": "stream",
          "name": "stdout",
          "text": [
            "+---+--------------------+----------------+-----------------------+\n",
            "| id|                name|total_population|median_household_income|\n",
            "+---+--------------------+----------------+-----------------------+\n",
            "|  0|                 N/A|           24819|                  30438|\n",
            "|  1|    Kashmere Gardens|           10055|                  23102|\n",
            "|  2|Trinity / Houston...|           15789|                  27789|\n",
            "|  3|           Settegast|            2981|                  28821|\n",
            "|  4|Denver Harbor / P...|           17571|                  29273|\n",
            "|  5|          South Park|           21208|                  29475|\n",
            "|  6|            Westwood|           19530|                  29527|\n",
            "|  7|  Greater Fifth Ward|           19687|                  30535|\n",
            "|  8|Clinton Park / Tr...|            3140|                  31826|\n",
            "|  9|        East Houston|           18580|                  31826|\n",
            "| 10|       Magnolia Park|           16999|                  32039|\n",
            "| 11|Gulfgate Rivervie...|           12723|                  32595|\n",
            "| 12|       Pleasantville|            2860|                  32899|\n",
            "| 13|     Eastex - Jensen|           25724|                  32923|\n",
            "| 14|          Sharpstown|           77220|                  33086|\n",
            "| 15|Northside / North...|           59410|                  33713|\n",
            "| 16| Greater Greenspoint|           41392|                  33909|\n",
            "| 17|Greater OST / Sou...|           19141|                  34019|\n",
            "| 18|       Hidden Valley|            3569|                  34452|\n",
            "| 19|          Pecan Park|           16259|                  34622|\n",
            "+---+--------------------+----------------+-----------------------+\n",
            "only showing top 20 rows\n",
            "\n"
          ]
        }
      ]
    },
    {
      "cell_type": "code",
      "source": [
        "df_joined = read_df.join(read_df_properties, read_df.id == read_df_properties.super_id, \"inner\").select(read_df_properties[\"id\"],\n",
        "                                                                                                        read_df_properties[\"super_id\"],\n",
        "                                                                                                        read_df[\"name\"],\n",
        "                                                                                                        read_df[\"total_population\"],\n",
        "                                                                                                        read_df[\"median_household_income\"],\n",
        "                                                                                                        read_df_properties[\"address\"],\n",
        "                                                                                                        read_df_properties[\"price\"],\n",
        "                                                                                                        read_df_properties[\"type\"],\n",
        "                                                                                                        read_df_properties[\"bed\"],\n",
        "                                                                                                        read_df_properties[\"sqft\"],\n",
        "                                                                                                        read_df_properties[\"walk\"],\n",
        "                                                                                                        read_df_properties[\"transit\"],\n",
        "                                                                                                        read_df_properties[\"bike\"],\n",
        "                                                                                                        read_df_properties[\"zipcode\"]\n",
        "                                                                                                        )\n",
        "df_joined.show()"
      ],
      "metadata": {
        "colab": {
          "base_uri": "https://localhost:8080/"
        },
        "id": "RX-88_7PUXKf",
        "outputId": "90cbdbf2-c666-4eb9-8a55-080d17f1f6fd"
      },
      "execution_count": 39,
      "outputs": [
        {
          "output_type": "stream",
          "name": "stdout",
          "text": [
            "+---+--------+--------------------+----------------+-----------------------+--------------------+-------------+--------------------+---+----+----+-------+----+-------+\n",
            "| id|super_id|                name|total_population|median_household_income|             address|        price|                type|bed|sqft|walk|transit|bike|zipcode|\n",
            "+---+--------+--------------------+----------------+-----------------------+--------------------+-------------+--------------------+---+----+----+-------+----+-------+\n",
            "|268|      31|  Greater Third Ward|           14295|                  40523|2410 Truxillo St,...|  $599,990.00|             Triplex|  3|3514|  77|     53|  83|  77004|\n",
            "|277|      31|  Greater Third Ward|           14295|                  40523|2909 Cleburne St,...|  $500,000.00|              Duplex|  2|2046|  67|     52|  76|  77004|\n",
            "|285|      31|  Greater Third Ward|           14295|                  40523|2518 Cleburne St,...|$1,749,900.00|              Duplex|  4|3096|  69|     50|  79|  77004|\n",
            "|434|      31|  Greater Third Ward|           14295|                  40523|2120 Alabama St, ...|  $344,900.00|Single family res...|  4|2145|  77|     56|  81|  77004|\n",
            "|864|      31|  Greater Third Ward|           14295|                  40523|2327 Saint Emanue...|  $545,000.00|Single family res...|  4|2800|  50|     50|  50|  77004|\n",
            "|918|      31|  Greater Third Ward|           14295|                  40523|2307 Berry St, Ho...|  $475,000.00|           Townhouse|  3|2306|  50|     50|  50|  77004|\n",
            "|  9|      85|Washington Avenue...|           29033|                  99302|5850 Petty St, Ho...|  $495,000.00|Single family res...|  4|2611|  38|     39|  41|  77007|\n",
            "| 32|      85|Washington Avenue...|           29033|                  99302|5450 Crooms St, H...|  $430,000.00|           Townhouse|  3|2217|  73|     45|  45|  77007|\n",
            "| 33|      85|Washington Avenue...|           29033|                  99302|915 E Heights Hol...|  $350,000.00|           Townhouse|  2|1644|  78|     49|  75|  77007|\n",
            "| 41|      85|Washington Avenue...|           29033|                  99302|185 Asbury St, Ho...|  $439,900.00|           Townhouse|  2|2242|  69|     44|  37|  77007|\n",
            "| 64|      85|Washington Avenue...|           29033|                  99302|5110 Eigel St, Ho...|  $475,000.00|           Townhouse|  3|2681|  84|     45|  52|  77007|\n",
            "| 69|      85|Washington Avenue...|           29033|                  99302|6602 Wanita Pl A,...|$1,375,000.00|           Townhouse|  4|3859|  55|     38|  48|  77007|\n",
            "| 70|      85|Washington Avenue...|           29033|                  99302|234 Detering St, ...|  $500,000.00|           Townhouse|  3|2348|  74|     47|  58|  77007|\n",
            "| 71|      85|Washington Avenue...|           29033|                  99302|4306 Center St, H...|  $599,000.00|           Townhouse|  4|2462|  77|     49|  58|  77007|\n",
            "| 86|      85|Washington Avenue...|           29033|                  99302|5507 Darling St, ...|  $469,500.00|           Townhouse|  3|2348|  61|     41|  43|  77007|\n",
            "| 89|      85|Washington Avenue...|           29033|                  99302|6308 Taggart St B...|  $635,000.00|           Townhouse|  3|2656|  74|     41|  54|  77007|\n",
            "| 92|      85|Washington Avenue...|           29033|                  99302|403 Roy St, Houst...|  $480,000.00|           Townhouse|  2|2032|  80|     48|  66|  77007|\n",
            "| 95|      85|Washington Avenue...|           29033|                  99302|503 Detering St, ...|  $480,000.00|           Townhouse|  3|2424|  82|     46|  60|  77007|\n",
            "|270|      85|Washington Avenue...|           29033|                  99302|6126 Tyne St, Hou...|  $385,000.00|              Duplex|  2|1430|  62|     39|  52|  77007|\n",
            "|303|      85|Washington Avenue...|           29033|                  99302|1513 Reinerman St...|  $449,000.00|           Townhouse|  3|2520|  84|     45|  52|  77007|\n",
            "+---+--------+--------------------+----------------+-----------------------+--------------------+-------------+--------------------+---+----+----+-------+----+-------+\n",
            "only showing top 20 rows\n",
            "\n"
          ]
        }
      ]
    }
  ]
}